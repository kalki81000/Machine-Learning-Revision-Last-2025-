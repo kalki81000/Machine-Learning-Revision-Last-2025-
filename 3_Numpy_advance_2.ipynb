{
  "cells": [
    {
      "cell_type": "markdown",
      "metadata": {
        "id": "view-in-github",
        "colab_type": "text"
      },
      "source": [
        "<a href=\"https://colab.research.google.com/github/kalki81000/Machine-Learning-Revision-Last-2025-/blob/main/3_Numpy_advance_2.ipynb\" target=\"_parent\"><img src=\"https://colab.research.google.com/assets/colab-badge.svg\" alt=\"Open In Colab\"/></a>"
      ]
    },
    {
      "cell_type": "code",
      "execution_count": null,
      "id": "7bf557a6-57f9-4e24-be43-9bc25b14f4ab",
      "metadata": {
        "id": "7bf557a6-57f9-4e24-be43-9bc25b14f4ab"
      },
      "outputs": [],
      "source": [
        "import numpy as np"
      ]
    },
    {
      "cell_type": "code",
      "execution_count": null,
      "id": "2d32fcd0-755e-4e4b-8a4c-4f63f17df955",
      "metadata": {
        "id": "2d32fcd0-755e-4e4b-8a4c-4f63f17df955"
      },
      "outputs": [],
      "source": [
        "arr1 = np.random.randint(1, 3, (3, 3))\n",
        "arr2 = np.random.randint(1, 3, (3, 3))"
      ]
    },
    {
      "cell_type": "code",
      "execution_count": null,
      "id": "8855656d-8adc-48e8-a6ca-0f58af9850ba",
      "metadata": {
        "id": "8855656d-8adc-48e8-a6ca-0f58af9850ba",
        "outputId": "8e54edf4-7f38-4223-c4b2-0e10cbadf80f"
      },
      "outputs": [
        {
          "data": {
            "text/plain": [
              "array([[2, 1, 2],\n",
              "       [1, 1, 1],\n",
              "       [2, 2, 1]])"
            ]
          },
          "execution_count": 3,
          "metadata": {},
          "output_type": "execute_result"
        }
      ],
      "source": [
        "arr2"
      ]
    },
    {
      "cell_type": "code",
      "execution_count": null,
      "id": "84dcff1b-99ef-4ed0-bb40-6ff079e9d2a5",
      "metadata": {
        "id": "84dcff1b-99ef-4ed0-bb40-6ff079e9d2a5",
        "outputId": "31ef547b-a1b9-445d-96db-7707887abfbf"
      },
      "outputs": [
        {
          "data": {
            "text/plain": [
              "array([[2, 2, 1],\n",
              "       [2, 2, 1],\n",
              "       [2, 2, 1]])"
            ]
          },
          "execution_count": 4,
          "metadata": {},
          "output_type": "execute_result"
        }
      ],
      "source": [
        "arr1"
      ]
    },
    {
      "cell_type": "code",
      "execution_count": null,
      "id": "6049f46d-6d41-47ec-ba8c-bb5e4a882a82",
      "metadata": {
        "id": "6049f46d-6d41-47ec-ba8c-bb5e4a882a82",
        "outputId": "02fd4e6a-4cae-477e-8abf-8a325c59eaf3"
      },
      "outputs": [
        {
          "data": {
            "text/plain": [
              "array([2, 2, 1, 2, 2, 1, 2, 2, 1])"
            ]
          },
          "execution_count": 5,
          "metadata": {},
          "output_type": "execute_result"
        }
      ],
      "source": [
        "arr1.flatten() #Return a copy of the array collapsed into one dimension."
      ]
    },
    {
      "cell_type": "code",
      "execution_count": null,
      "id": "bd4dca35-af5a-4f98-bcaf-e73d0be174fd",
      "metadata": {
        "id": "bd4dca35-af5a-4f98-bcaf-e73d0be174fd"
      },
      "outputs": [],
      "source": [
        "#expand dimension\n",
        "arr = np.array([1, 2, 3, 4])"
      ]
    },
    {
      "cell_type": "code",
      "execution_count": null,
      "id": "6ab215a3-2e6e-42fc-810d-c7b81577daa2",
      "metadata": {
        "id": "6ab215a3-2e6e-42fc-810d-c7b81577daa2",
        "outputId": "210a8c71-4405-431a-c05c-0fcdfcd8b066"
      },
      "outputs": [
        {
          "data": {
            "text/plain": [
              "array([1, 2, 3, 4])"
            ]
          },
          "execution_count": 7,
          "metadata": {},
          "output_type": "execute_result"
        }
      ],
      "source": [
        "arr"
      ]
    },
    {
      "cell_type": "code",
      "execution_count": null,
      "id": "cb5b9828-9b28-4ace-8dbd-7d65ce1d9c99",
      "metadata": {
        "id": "cb5b9828-9b28-4ace-8dbd-7d65ce1d9c99",
        "outputId": "ff4c5857-1341-4e2b-9974-4c2977244283"
      },
      "outputs": [
        {
          "data": {
            "text/plain": [
              "1"
            ]
          },
          "execution_count": 8,
          "metadata": {},
          "output_type": "execute_result"
        }
      ],
      "source": [
        "arr.ndim"
      ]
    },
    {
      "cell_type": "code",
      "execution_count": null,
      "id": "36984301-94d3-474e-a962-e92de6283705",
      "metadata": {
        "id": "36984301-94d3-474e-a962-e92de6283705",
        "outputId": "fd2f7775-3dab-4406-c4d0-194e5a7fe93f"
      },
      "outputs": [
        {
          "data": {
            "text/plain": [
              "array([[1, 2, 3, 4]])"
            ]
          },
          "execution_count": 10,
          "metadata": {},
          "output_type": "execute_result"
        }
      ],
      "source": [
        "np.expand_dims(arr, axis=0) #increase the dimension by 1 in the provided axis, 0 means rows(x axis), 1 means column wise(y axis)"
      ]
    },
    {
      "cell_type": "code",
      "execution_count": null,
      "id": "2a3951e3-04be-4d2a-ba4d-2b5a86acfd27",
      "metadata": {
        "id": "2a3951e3-04be-4d2a-ba4d-2b5a86acfd27",
        "outputId": "19325868-fe5b-40fe-ff5f-e7d7fb6ba900"
      },
      "outputs": [
        {
          "data": {
            "text/plain": [
              "array([[1],\n",
              "       [2],\n",
              "       [3],\n",
              "       [4]])"
            ]
          },
          "execution_count": 11,
          "metadata": {},
          "output_type": "execute_result"
        }
      ],
      "source": [
        "np.expand_dims(arr, axis=1)"
      ]
    },
    {
      "cell_type": "code",
      "execution_count": null,
      "id": "96123692-bc99-4cf9-9e25-338d36307f89",
      "metadata": {
        "id": "96123692-bc99-4cf9-9e25-338d36307f89",
        "outputId": "08f1e516-be4c-404c-bfb6-aead87b8f4fd"
      },
      "outputs": [
        {
          "data": {
            "text/plain": [
              "2"
            ]
          },
          "execution_count": 12,
          "metadata": {},
          "output_type": "execute_result"
        }
      ],
      "source": [
        "np.expand_dims(arr, axis=1).ndim"
      ]
    },
    {
      "cell_type": "code",
      "execution_count": null,
      "id": "211799ae-a9e0-4f36-9244-26efba0ce21a",
      "metadata": {
        "id": "211799ae-a9e0-4f36-9244-26efba0ce21a",
        "outputId": "2be80164-06c0-4283-a6e4-b7dae28558f6"
      },
      "outputs": [
        {
          "data": {
            "text/plain": [
              "array([[0., 0., 0., 0.],\n",
              "       [0., 0., 0., 0.],\n",
              "       [0., 0., 0., 0.]])"
            ]
          },
          "execution_count": 13,
          "metadata": {},
          "output_type": "execute_result"
        }
      ],
      "source": [
        "arr = np.zeros((3, 4))\n",
        "arr"
      ]
    },
    {
      "cell_type": "code",
      "execution_count": null,
      "id": "a5628006-2e19-42b2-98bf-1b7491fc0bab",
      "metadata": {
        "id": "a5628006-2e19-42b2-98bf-1b7491fc0bab",
        "outputId": "df6e81fe-2109-4d04-ca2b-38ad486986f1"
      },
      "outputs": [
        {
          "data": {
            "text/plain": [
              "array([[[0., 0., 0., 0.],\n",
              "        [0., 0., 0., 0.],\n",
              "        [0., 0., 0., 0.]]])"
            ]
          },
          "execution_count": 14,
          "metadata": {},
          "output_type": "execute_result"
        }
      ],
      "source": [
        "np.expand_dims(arr, axis = 0)"
      ]
    },
    {
      "cell_type": "code",
      "execution_count": null,
      "id": "95edd140-ea59-44c4-9337-9e8f4bfae64d",
      "metadata": {
        "id": "95edd140-ea59-44c4-9337-9e8f4bfae64d",
        "outputId": "b04f670c-2524-477f-be50-4bb6dc88dffd"
      },
      "outputs": [
        {
          "data": {
            "text/plain": [
              "3"
            ]
          },
          "execution_count": 15,
          "metadata": {},
          "output_type": "execute_result"
        }
      ],
      "source": [
        "np.expand_dims(arr, axis = 0).ndim"
      ]
    },
    {
      "cell_type": "code",
      "execution_count": null,
      "id": "93268025-4286-4fc2-8eed-a940eff86bf8",
      "metadata": {
        "id": "93268025-4286-4fc2-8eed-a940eff86bf8",
        "outputId": "a01aadf6-2443-4839-ae61-e89fa3535ca0"
      },
      "outputs": [
        {
          "data": {
            "text/plain": [
              "array([[[0., 0., 0., 0.]],\n",
              "\n",
              "       [[0., 0., 0., 0.]],\n",
              "\n",
              "       [[0., 0., 0., 0.]]])"
            ]
          },
          "execution_count": 16,
          "metadata": {},
          "output_type": "execute_result"
        }
      ],
      "source": [
        "np.expand_dims(arr, axis = 1)"
      ]
    },
    {
      "cell_type": "code",
      "execution_count": null,
      "id": "0b5d518b-7053-4d6a-b6bf-e62b81f9f4c6",
      "metadata": {
        "id": "0b5d518b-7053-4d6a-b6bf-e62b81f9f4c6",
        "outputId": "1c8afb70-2c34-49c5-c945-ccd60d859abf"
      },
      "outputs": [
        {
          "data": {
            "text/plain": [
              "3"
            ]
          },
          "execution_count": 17,
          "metadata": {},
          "output_type": "execute_result"
        }
      ],
      "source": [
        "np.expand_dims(arr, axis = 0).ndim"
      ]
    },
    {
      "cell_type": "code",
      "execution_count": null,
      "id": "aa74671f-04ca-4ad7-b971-9209306f6182",
      "metadata": {
        "id": "aa74671f-04ca-4ad7-b971-9209306f6182"
      },
      "outputs": [],
      "source": [
        "a = np.array([[1], [2], [3]])"
      ]
    },
    {
      "cell_type": "code",
      "execution_count": null,
      "id": "6fdf0db6-92a9-444d-b52d-6f00fb8d512b",
      "metadata": {
        "id": "6fdf0db6-92a9-444d-b52d-6f00fb8d512b",
        "outputId": "71013466-ec4e-4434-ba3f-539718e2fdeb"
      },
      "outputs": [
        {
          "data": {
            "text/plain": [
              "array([[1],\n",
              "       [2],\n",
              "       [3]])"
            ]
          },
          "execution_count": 19,
          "metadata": {},
          "output_type": "execute_result"
        }
      ],
      "source": [
        "a"
      ]
    },
    {
      "cell_type": "code",
      "execution_count": null,
      "id": "89a47f24-ad92-4ed8-9359-b684d6ac5b51",
      "metadata": {
        "id": "89a47f24-ad92-4ed8-9359-b684d6ac5b51",
        "outputId": "dd403ac1-22ea-4af0-8da5-6ee933f836ca"
      },
      "outputs": [
        {
          "data": {
            "text/plain": [
              "2"
            ]
          },
          "execution_count": 20,
          "metadata": {},
          "output_type": "execute_result"
        }
      ],
      "source": [
        "a.ndim"
      ]
    },
    {
      "cell_type": "code",
      "execution_count": null,
      "id": "9b352011-ea19-423c-b257-15183b94e5a6",
      "metadata": {
        "id": "9b352011-ea19-423c-b257-15183b94e5a6",
        "outputId": "bfbeba17-e585-492e-e9ff-f32a903ab27c"
      },
      "outputs": [
        {
          "data": {
            "text/plain": [
              "array([1, 2, 3])"
            ]
          },
          "execution_count": 21,
          "metadata": {},
          "output_type": "execute_result"
        }
      ],
      "source": [
        "#squeezing the dimension by 1 dimension\n",
        "np.squeeze(a)#Remove axes of length one from `a`"
      ]
    },
    {
      "cell_type": "code",
      "execution_count": null,
      "id": "ae88e653-f6d8-45d8-8a26-04f51e34eb59",
      "metadata": {
        "id": "ae88e653-f6d8-45d8-8a26-04f51e34eb59",
        "outputId": "43255a44-5c8a-444e-b895-7c6f8d49633f"
      },
      "outputs": [
        {
          "data": {
            "text/plain": [
              "array([[1],\n",
              "       [2],\n",
              "       [3]])"
            ]
          },
          "execution_count": 22,
          "metadata": {},
          "output_type": "execute_result"
        }
      ],
      "source": [
        "a"
      ]
    },
    {
      "cell_type": "code",
      "execution_count": null,
      "id": "bd1e2ecf-4316-4259-9d7d-f78bafe33054",
      "metadata": {
        "id": "bd1e2ecf-4316-4259-9d7d-f78bafe33054",
        "outputId": "57fa8301-d4a1-49b3-fa1b-45cf64a4a559"
      },
      "outputs": [
        {
          "data": {
            "text/plain": [
              "array([1, 1, 1, 1, 2, 2, 2, 2, 3, 3, 3, 3])"
            ]
          },
          "execution_count": 23,
          "metadata": {},
          "output_type": "execute_result"
        }
      ],
      "source": [
        "np.repeat(a, 4)"
      ]
    },
    {
      "cell_type": "code",
      "execution_count": null,
      "id": "b68f74bd-6b99-4b6b-bc32-95226dd64ae3",
      "metadata": {
        "id": "b68f74bd-6b99-4b6b-bc32-95226dd64ae3",
        "outputId": "17775d8d-c2c4-4c7e-b194-84677a0ed845"
      },
      "outputs": [
        {
          "data": {
            "text/plain": [
              "array([[2, 2, 1],\n",
              "       [2, 2, 1],\n",
              "       [2, 2, 1]])"
            ]
          },
          "execution_count": 24,
          "metadata": {},
          "output_type": "execute_result"
        }
      ],
      "source": [
        "arr1"
      ]
    },
    {
      "cell_type": "code",
      "execution_count": null,
      "id": "ac63bdc1-09d4-4e30-8c97-d48f3a03cbae",
      "metadata": {
        "id": "ac63bdc1-09d4-4e30-8c97-d48f3a03cbae",
        "outputId": "0f0f911a-fcc3-4d5a-ad8e-90759ade3a3c"
      },
      "outputs": [
        {
          "data": {
            "text/plain": [
              "array([2, 2, 2, 2, 1, 1, 2, 2, 2, 2, 1, 1, 2, 2, 2, 2, 1, 1])"
            ]
          },
          "execution_count": 25,
          "metadata": {},
          "output_type": "execute_result"
        }
      ],
      "source": [
        "np.repeat(arr1, 2)"
      ]
    },
    {
      "cell_type": "code",
      "execution_count": null,
      "id": "459d2da6-3813-4d7e-bcac-24efb8a7bc95",
      "metadata": {
        "id": "459d2da6-3813-4d7e-bcac-24efb8a7bc95",
        "outputId": "d2952c82-0010-4fad-f393-a298d48c8d22"
      },
      "outputs": [
        {
          "data": {
            "text/plain": [
              "array([[2, 2, 1],\n",
              "       [2, 2, 1],\n",
              "       [2, 2, 1],\n",
              "       [2, 2, 1],\n",
              "       [2, 2, 1],\n",
              "       [2, 2, 1]])"
            ]
          },
          "execution_count": 26,
          "metadata": {},
          "output_type": "execute_result"
        }
      ],
      "source": [
        "np.repeat(arr1, 2, axis=0)"
      ]
    },
    {
      "cell_type": "code",
      "execution_count": null,
      "id": "ad480f1b-bf04-43c3-8503-c35d2890edd5",
      "metadata": {
        "id": "ad480f1b-bf04-43c3-8503-c35d2890edd5",
        "outputId": "21e8189b-cd1d-4b82-d6ba-c8a9b82a1bbb"
      },
      "outputs": [
        {
          "data": {
            "text/plain": [
              "array([[2, 1, 2],\n",
              "       [2, 1, 2],\n",
              "       [2, 1, 2],\n",
              "       [1, 1, 1],\n",
              "       [1, 1, 1],\n",
              "       [1, 1, 1],\n",
              "       [2, 2, 1],\n",
              "       [2, 2, 1],\n",
              "       [2, 2, 1]])"
            ]
          },
          "execution_count": 28,
          "metadata": {},
          "output_type": "execute_result"
        }
      ],
      "source": [
        "np.repeat(arr2, 3, axis=0)"
      ]
    },
    {
      "cell_type": "code",
      "execution_count": null,
      "id": "256796f1-7981-4495-971c-5f05aa95948c",
      "metadata": {
        "id": "256796f1-7981-4495-971c-5f05aa95948c",
        "outputId": "d4f1fec3-18ca-441d-a552-59c7f850228e"
      },
      "outputs": [
        {
          "data": {
            "text/plain": [
              "array([[2, 2, 2, 1, 1, 1, 2, 2, 2],\n",
              "       [1, 1, 1, 1, 1, 1, 1, 1, 1],\n",
              "       [2, 2, 2, 2, 2, 2, 1, 1, 1]])"
            ]
          },
          "execution_count": 29,
          "metadata": {},
          "output_type": "execute_result"
        }
      ],
      "source": [
        "np.repeat(arr2, 3, axis=1)"
      ]
    },
    {
      "cell_type": "code",
      "execution_count": null,
      "id": "d71f6bc7-b9cf-4cf6-9e78-b8cafe3f5beb",
      "metadata": {
        "id": "d71f6bc7-b9cf-4cf6-9e78-b8cafe3f5beb",
        "outputId": "83a352cb-7e8f-4fc1-9db0-cf32aa0de392"
      },
      "outputs": [
        {
          "data": {
            "text/plain": [
              "array([[1],\n",
              "       [2],\n",
              "       [3]])"
            ]
          },
          "execution_count": 30,
          "metadata": {},
          "output_type": "execute_result"
        }
      ],
      "source": [
        "a"
      ]
    },
    {
      "cell_type": "code",
      "execution_count": null,
      "id": "75f89e14-c2b7-4091-bc58-2cd925956c3f",
      "metadata": {
        "id": "75f89e14-c2b7-4091-bc58-2cd925956c3f",
        "outputId": "7be4536d-d5dc-437a-d64e-6469d403268a"
      },
      "outputs": [
        {
          "data": {
            "text/plain": [
              "array([[2],\n",
              "       [3],\n",
              "       [1]])"
            ]
          },
          "execution_count": 31,
          "metadata": {},
          "output_type": "execute_result"
        }
      ],
      "source": [
        "np.roll(a, -1) #shift place"
      ]
    },
    {
      "cell_type": "code",
      "execution_count": null,
      "id": "a322c400-60e4-4100-b3bd-a3943ee081de",
      "metadata": {
        "id": "a322c400-60e4-4100-b3bd-a3943ee081de",
        "outputId": "38c1b332-8dad-4639-c55e-86c821557113"
      },
      "outputs": [
        {
          "data": {
            "text/plain": [
              "array([[3],\n",
              "       [1],\n",
              "       [2]])"
            ]
          },
          "execution_count": 32,
          "metadata": {},
          "output_type": "execute_result"
        }
      ],
      "source": [
        "np.roll(a, -2)"
      ]
    },
    {
      "cell_type": "code",
      "execution_count": null,
      "id": "366ed3fc-723e-41ed-85e6-9f445223ec9b",
      "metadata": {
        "id": "366ed3fc-723e-41ed-85e6-9f445223ec9b"
      },
      "outputs": [],
      "source": [
        "c = np.array([[1, 2], [3, 4], [5, 6], [7, 8]])"
      ]
    },
    {
      "cell_type": "code",
      "execution_count": null,
      "id": "2820d33a-6374-4def-a37b-f677c9ad5394",
      "metadata": {
        "id": "2820d33a-6374-4def-a37b-f677c9ad5394",
        "outputId": "67e237b9-8088-4a47-fee6-38cb400e7f99"
      },
      "outputs": [
        {
          "data": {
            "text/plain": [
              "array([[1, 2],\n",
              "       [3, 4],\n",
              "       [5, 6],\n",
              "       [7, 8]])"
            ]
          },
          "execution_count": 36,
          "metadata": {},
          "output_type": "execute_result"
        }
      ],
      "source": [
        "c"
      ]
    },
    {
      "cell_type": "code",
      "execution_count": null,
      "id": "88d30056-565a-4e83-b5ec-ede9a9a4f4e4",
      "metadata": {
        "id": "88d30056-565a-4e83-b5ec-ede9a9a4f4e4",
        "outputId": "7f184df5-00b9-4dae-bf91-00dd6bebec9a"
      },
      "outputs": [
        {
          "data": {
            "text/plain": [
              "array([[2, 3],\n",
              "       [4, 5],\n",
              "       [6, 7],\n",
              "       [8, 1]])"
            ]
          },
          "execution_count": 37,
          "metadata": {},
          "output_type": "execute_result"
        }
      ],
      "source": [
        "np.roll(c, -1)"
      ]
    },
    {
      "cell_type": "code",
      "execution_count": null,
      "id": "671cc6a9-e327-43fd-a1cd-7039dc486ea5",
      "metadata": {
        "id": "671cc6a9-e327-43fd-a1cd-7039dc486ea5",
        "outputId": "f95981f3-1222-4b22-9f22-e25a1741af5d"
      },
      "outputs": [
        {
          "data": {
            "text/plain": [
              "array([[1, 2],\n",
              "       [3, 4],\n",
              "       [5, 6],\n",
              "       [7, 8]])"
            ]
          },
          "execution_count": 39,
          "metadata": {},
          "output_type": "execute_result"
        }
      ],
      "source": [
        "c"
      ]
    },
    {
      "cell_type": "code",
      "execution_count": null,
      "id": "5a64cd26-e331-4c50-8c91-500303d752e2",
      "metadata": {
        "id": "5a64cd26-e331-4c50-8c91-500303d752e2",
        "outputId": "3f0b3cc8-2a31-41e8-83ea-91f5c66ec806"
      },
      "outputs": [
        {
          "data": {
            "text/plain": [
              "array([[7, 8],\n",
              "       [1, 2],\n",
              "       [3, 4],\n",
              "       [5, 6]])"
            ]
          },
          "execution_count": 38,
          "metadata": {},
          "output_type": "execute_result"
        }
      ],
      "source": [
        "np.roll(c, 2)"
      ]
    },
    {
      "cell_type": "code",
      "execution_count": null,
      "id": "01dd6c6a-976b-47b1-9f1c-68d445f6ecb6",
      "metadata": {
        "id": "01dd6c6a-976b-47b1-9f1c-68d445f6ecb6",
        "outputId": "6eb3d496-7498-4d99-9789-e133ecc68f0b"
      },
      "outputs": [
        {
          "data": {
            "text/plain": [
              "array([[5, 6],\n",
              "       [7, 8],\n",
              "       [1, 2],\n",
              "       [3, 4]])"
            ]
          },
          "execution_count": 40,
          "metadata": {},
          "output_type": "execute_result"
        }
      ],
      "source": [
        "np.roll(c, 2, axis=0)"
      ]
    },
    {
      "cell_type": "code",
      "execution_count": null,
      "id": "e3e5dcd1-3935-4cd4-a83a-aaac808e6787",
      "metadata": {
        "id": "e3e5dcd1-3935-4cd4-a83a-aaac808e6787",
        "outputId": "9399850e-564a-4365-d4fe-12ff8bf14e8e"
      },
      "outputs": [
        {
          "data": {
            "text/plain": [
              "array([[2, 2, 1],\n",
              "       [2, 2, 1],\n",
              "       [2, 2, 1]])"
            ]
          },
          "execution_count": 41,
          "metadata": {},
          "output_type": "execute_result"
        }
      ],
      "source": [
        "arr1"
      ]
    },
    {
      "cell_type": "code",
      "execution_count": null,
      "id": "d3398bf4-b70b-4b73-b0fa-a02547ef5976",
      "metadata": {
        "id": "d3398bf4-b70b-4b73-b0fa-a02547ef5976",
        "outputId": "dada9324-937c-4fc0-f315-66935add5cc2"
      },
      "outputs": [
        {
          "data": {
            "text/plain": [
              "array([[2, 1, 2],\n",
              "       [1, 1, 1],\n",
              "       [2, 2, 1]])"
            ]
          },
          "execution_count": 42,
          "metadata": {},
          "output_type": "execute_result"
        }
      ],
      "source": [
        "arr2"
      ]
    },
    {
      "cell_type": "code",
      "execution_count": null,
      "id": "d122f233-dea6-4194-8c16-d6a82eb7fcd3",
      "metadata": {
        "id": "d122f233-dea6-4194-8c16-d6a82eb7fcd3",
        "outputId": "0e79a05c-ce17-4b78-e93e-b560705e2a75"
      },
      "outputs": [
        {
          "data": {
            "text/plain": [
              "array([[4, 3, 3],\n",
              "       [3, 3, 2],\n",
              "       [4, 4, 2]])"
            ]
          },
          "execution_count": 43,
          "metadata": {},
          "output_type": "execute_result"
        }
      ],
      "source": [
        "arr1+arr2"
      ]
    },
    {
      "cell_type": "code",
      "execution_count": null,
      "id": "48017e41-92f2-4947-83f5-f196fb615d2e",
      "metadata": {
        "id": "48017e41-92f2-4947-83f5-f196fb615d2e",
        "outputId": "e37feb29-ceb7-49db-d6d6-de8ee9742047"
      },
      "outputs": [
        {
          "data": {
            "text/plain": [
              "array([[ 0,  1, -1],\n",
              "       [ 1,  1,  0],\n",
              "       [ 0,  0,  0]])"
            ]
          },
          "execution_count": 44,
          "metadata": {},
          "output_type": "execute_result"
        }
      ],
      "source": [
        "arr1-arr2"
      ]
    },
    {
      "cell_type": "code",
      "execution_count": null,
      "id": "0fe78ace-c315-4b9a-850b-619bff480615",
      "metadata": {
        "id": "0fe78ace-c315-4b9a-850b-619bff480615",
        "outputId": "3d670c1f-dbbc-4162-ec2d-bc9b41c2412b"
      },
      "outputs": [
        {
          "data": {
            "text/plain": [
              "array([[4, 2, 2],\n",
              "       [2, 2, 1],\n",
              "       [4, 4, 1]])"
            ]
          },
          "execution_count": 45,
          "metadata": {},
          "output_type": "execute_result"
        }
      ],
      "source": [
        "arr1 * arr2"
      ]
    },
    {
      "cell_type": "code",
      "execution_count": null,
      "id": "b0fe9974-aa89-4ba5-97f4-e645daba6fa6",
      "metadata": {
        "id": "b0fe9974-aa89-4ba5-97f4-e645daba6fa6",
        "outputId": "a291069b-f5fb-4b99-8509-5b285e2dd67c"
      },
      "outputs": [
        {
          "data": {
            "text/plain": [
              "array([[False,  True, False],\n",
              "       [ True,  True, False],\n",
              "       [False, False, False]])"
            ]
          },
          "execution_count": 46,
          "metadata": {},
          "output_type": "execute_result"
        }
      ],
      "source": [
        "arr1 > arr2"
      ]
    },
    {
      "cell_type": "code",
      "execution_count": null,
      "id": "6cdeec37-9d99-4ee4-81b5-fa34fc605a07",
      "metadata": {
        "id": "6cdeec37-9d99-4ee4-81b5-fa34fc605a07",
        "outputId": "157cfe7a-86a3-47a4-b9a5-71c07483c4fa"
      },
      "outputs": [
        {
          "data": {
            "text/plain": [
              "array([[2, 2, 1],\n",
              "       [2, 2, 1],\n",
              "       [2, 2, 1]])"
            ]
          },
          "execution_count": 47,
          "metadata": {},
          "output_type": "execute_result"
        }
      ],
      "source": [
        "arr1"
      ]
    },
    {
      "cell_type": "code",
      "execution_count": null,
      "id": "f9ce5852-9139-46a4-bc50-04dd3e8170dc",
      "metadata": {
        "id": "f9ce5852-9139-46a4-bc50-04dd3e8170dc",
        "outputId": "e70e567c-0703-4a9c-b5ba-aa612886f727"
      },
      "outputs": [
        {
          "data": {
            "text/plain": [
              "array([[-3, -3, -2],\n",
              "       [-3, -3, -2],\n",
              "       [-3, -3, -2]])"
            ]
          },
          "execution_count": 48,
          "metadata": {},
          "output_type": "execute_result"
        }
      ],
      "source": [
        "~arr1"
      ]
    },
    {
      "cell_type": "code",
      "execution_count": null,
      "id": "613e887d-aa35-431b-8d36-54d687574a0e",
      "metadata": {
        "id": "613e887d-aa35-431b-8d36-54d687574a0e"
      },
      "outputs": [],
      "source": [
        "#operations on numpy string array\n",
        "\n",
        "d = np.array([\"pw\", \"skills\"])"
      ]
    },
    {
      "cell_type": "code",
      "execution_count": null,
      "id": "2c2774b9-e32a-4748-8fda-ce76dfaa2be5",
      "metadata": {
        "id": "2c2774b9-e32a-4748-8fda-ce76dfaa2be5",
        "outputId": "14776eb1-11c5-4ea7-c213-28849dc12e43"
      },
      "outputs": [
        {
          "data": {
            "text/plain": [
              "array(['pw', 'skills'], dtype='<U6')"
            ]
          },
          "execution_count": 50,
          "metadata": {},
          "output_type": "execute_result"
        }
      ],
      "source": [
        "d"
      ]
    },
    {
      "cell_type": "code",
      "execution_count": null,
      "id": "989b2347-07a5-4f45-b9fa-47946cbe5166",
      "metadata": {
        "id": "989b2347-07a5-4f45-b9fa-47946cbe5166",
        "outputId": "80468812-b1f1-465c-81fd-b961c94b6f1a"
      },
      "outputs": [
        {
          "data": {
            "text/plain": [
              "array(['PW', 'SKILLS'], dtype='<U6')"
            ]
          },
          "execution_count": 51,
          "metadata": {},
          "output_type": "execute_result"
        }
      ],
      "source": [
        "np.char.upper(d)"
      ]
    },
    {
      "cell_type": "code",
      "execution_count": null,
      "id": "673efb41-3be3-4206-865e-a0543874c1cb",
      "metadata": {
        "id": "673efb41-3be3-4206-865e-a0543874c1cb",
        "outputId": "129db5e7-0164-4ef3-f64e-c5cc5fa2988f"
      },
      "outputs": [
        {
          "data": {
            "text/plain": [
              "array(['Pw', 'Skills'], dtype='<U6')"
            ]
          },
          "execution_count": 52,
          "metadata": {},
          "output_type": "execute_result"
        }
      ],
      "source": [
        "np.char.capitalize(d)"
      ]
    },
    {
      "cell_type": "code",
      "execution_count": null,
      "id": "362e6421-59d2-4b2a-9bfd-db32ee740614",
      "metadata": {
        "id": "362e6421-59d2-4b2a-9bfd-db32ee740614"
      },
      "outputs": [],
      "source": [
        "#mathematical function"
      ]
    },
    {
      "cell_type": "code",
      "execution_count": null,
      "id": "a5c874a5-d08d-4be4-b6f1-d30950b28b98",
      "metadata": {
        "id": "a5c874a5-d08d-4be4-b6f1-d30950b28b98",
        "outputId": "7ede15e1-bc77-481d-da0b-a288440281a8"
      },
      "outputs": [
        {
          "data": {
            "text/plain": [
              "array([[2, 2, 1],\n",
              "       [2, 2, 1],\n",
              "       [2, 2, 1]])"
            ]
          },
          "execution_count": 54,
          "metadata": {},
          "output_type": "execute_result"
        }
      ],
      "source": [
        "arr1"
      ]
    },
    {
      "cell_type": "code",
      "execution_count": null,
      "id": "d219cfcc-e894-4e92-b877-fb748cb04617",
      "metadata": {
        "id": "d219cfcc-e894-4e92-b877-fb748cb04617",
        "outputId": "a49bec16-2b23-4db1-d63a-52e16aa75524"
      },
      "outputs": [
        {
          "data": {
            "text/plain": [
              "array([[0.90929743, 0.90929743, 0.84147098],\n",
              "       [0.90929743, 0.90929743, 0.84147098],\n",
              "       [0.90929743, 0.90929743, 0.84147098]])"
            ]
          },
          "execution_count": 55,
          "metadata": {},
          "output_type": "execute_result"
        }
      ],
      "source": [
        "np.sin(arr1)"
      ]
    },
    {
      "cell_type": "code",
      "execution_count": null,
      "id": "4ae6d216-2058-40d5-b4eb-3d1738e3f8f3",
      "metadata": {
        "id": "4ae6d216-2058-40d5-b4eb-3d1738e3f8f3",
        "outputId": "174e1487-e379-4fbe-d8a7-6906e2cbe2ac"
      },
      "outputs": [
        {
          "data": {
            "text/plain": [
              "array([[-0.41614684, -0.41614684,  0.54030231],\n",
              "       [-0.41614684, -0.41614684,  0.54030231],\n",
              "       [-0.41614684, -0.41614684,  0.54030231]])"
            ]
          },
          "execution_count": 56,
          "metadata": {},
          "output_type": "execute_result"
        }
      ],
      "source": [
        "np.cos(arr1)"
      ]
    },
    {
      "cell_type": "code",
      "execution_count": null,
      "id": "7cca2c8d-23b6-41fb-9009-dbd59fa8b9cb",
      "metadata": {
        "id": "7cca2c8d-23b6-41fb-9009-dbd59fa8b9cb",
        "outputId": "0a4cff11-37ea-424e-cace-2b215b88c806"
      },
      "outputs": [
        {
          "data": {
            "text/plain": [
              "array([[-2.18503986, -2.18503986,  1.55740772],\n",
              "       [-2.18503986, -2.18503986,  1.55740772],\n",
              "       [-2.18503986, -2.18503986,  1.55740772]])"
            ]
          },
          "execution_count": 57,
          "metadata": {},
          "output_type": "execute_result"
        }
      ],
      "source": [
        "np.tan(arr1)"
      ]
    },
    {
      "cell_type": "code",
      "execution_count": null,
      "id": "c057001d-6eb3-498b-beeb-8cac38cf7391",
      "metadata": {
        "id": "c057001d-6eb3-498b-beeb-8cac38cf7391",
        "outputId": "8c6c00de-b637-47f2-9441-3289660099b6"
      },
      "outputs": [
        {
          "data": {
            "text/plain": [
              "array([[0.30103, 0.30103, 0.     ],\n",
              "       [0.30103, 0.30103, 0.     ],\n",
              "       [0.30103, 0.30103, 0.     ]])"
            ]
          },
          "execution_count": 58,
          "metadata": {},
          "output_type": "execute_result"
        }
      ],
      "source": [
        "np.log10(arr1)"
      ]
    },
    {
      "cell_type": "code",
      "execution_count": null,
      "id": "443c3607-6c7e-44e1-af77-0cc2eb08f769",
      "metadata": {
        "id": "443c3607-6c7e-44e1-af77-0cc2eb08f769",
        "outputId": "1d9d1b75-9e5b-4052-bfb7-22396741f4d0"
      },
      "outputs": [
        {
          "data": {
            "text/plain": [
              "array([[7.3890561 , 7.3890561 , 2.71828183],\n",
              "       [7.3890561 , 7.3890561 , 2.71828183],\n",
              "       [7.3890561 , 7.3890561 , 2.71828183]])"
            ]
          },
          "execution_count": 59,
          "metadata": {},
          "output_type": "execute_result"
        }
      ],
      "source": [
        "np.exp(arr1)"
      ]
    },
    {
      "cell_type": "code",
      "execution_count": null,
      "id": "8659949b-fb53-4bc6-8c4c-f3b43ae0efb9",
      "metadata": {
        "id": "8659949b-fb53-4bc6-8c4c-f3b43ae0efb9",
        "outputId": "5f51da11-81f9-47f6-82fd-7a759ccdefee"
      },
      "outputs": [
        {
          "data": {
            "text/plain": [
              "array([[8, 8, 1],\n",
              "       [8, 8, 1],\n",
              "       [8, 8, 1]])"
            ]
          },
          "execution_count": 60,
          "metadata": {},
          "output_type": "execute_result"
        }
      ],
      "source": [
        "np.power(arr1, 3)"
      ]
    },
    {
      "cell_type": "code",
      "execution_count": null,
      "id": "2009a827-555f-4e3d-a582-68b2e4ef5e15",
      "metadata": {
        "id": "2009a827-555f-4e3d-a582-68b2e4ef5e15",
        "outputId": "20dc7a2c-7213-4a22-b60b-279211c5b873"
      },
      "outputs": [
        {
          "data": {
            "text/plain": [
              "2"
            ]
          },
          "execution_count": 62,
          "metadata": {},
          "output_type": "execute_result"
        }
      ],
      "source": [
        "np.max(arr1)"
      ]
    },
    {
      "cell_type": "code",
      "execution_count": null,
      "id": "74b9aa14-d3ba-4ac0-9016-b7910b74182d",
      "metadata": {
        "id": "74b9aa14-d3ba-4ac0-9016-b7910b74182d",
        "outputId": "20f7bbd3-be0c-4f04-9d50-d9829cb62b02"
      },
      "outputs": [
        {
          "data": {
            "text/plain": [
              "array([[2, 2, 1],\n",
              "       [2, 2, 1],\n",
              "       [2, 2, 1]])"
            ]
          },
          "execution_count": 63,
          "metadata": {},
          "output_type": "execute_result"
        }
      ],
      "source": [
        "arr1"
      ]
    },
    {
      "cell_type": "code",
      "execution_count": null,
      "id": "d64ba3e7-0fdd-4455-92b8-9c2da7483c6c",
      "metadata": {
        "id": "d64ba3e7-0fdd-4455-92b8-9c2da7483c6c",
        "outputId": "495aa3b0-2845-47fe-85f5-230aef411ce8"
      },
      "outputs": [
        {
          "data": {
            "text/plain": [
              "1.6666666666666667"
            ]
          },
          "execution_count": 64,
          "metadata": {},
          "output_type": "execute_result"
        }
      ],
      "source": [
        "np.mean(arr1)"
      ]
    },
    {
      "cell_type": "code",
      "execution_count": null,
      "id": "9d51e1a2-9fca-4e2d-b322-858936482b50",
      "metadata": {
        "id": "9d51e1a2-9fca-4e2d-b322-858936482b50",
        "outputId": "e1e50139-361c-43b1-c1a0-b8c59bfdc34d"
      },
      "outputs": [
        {
          "data": {
            "text/plain": [
              "1"
            ]
          },
          "execution_count": 65,
          "metadata": {},
          "output_type": "execute_result"
        }
      ],
      "source": [
        "np.min(arr1)"
      ]
    },
    {
      "cell_type": "code",
      "execution_count": null,
      "id": "7fab71dc-9d78-40d7-b409-9d7634e5450c",
      "metadata": {
        "id": "7fab71dc-9d78-40d7-b409-9d7634e5450c",
        "outputId": "550f7668-ae20-4ce9-934f-7e5d4bbcf416"
      },
      "outputs": [
        {
          "data": {
            "text/plain": [
              "0.4714045207910317"
            ]
          },
          "execution_count": 66,
          "metadata": {},
          "output_type": "execute_result"
        }
      ],
      "source": [
        "np.std(arr1)"
      ]
    },
    {
      "cell_type": "code",
      "execution_count": null,
      "id": "242dd20f-1cc0-4bcd-a0df-60fa3c828c6e",
      "metadata": {
        "id": "242dd20f-1cc0-4bcd-a0df-60fa3c828c6e",
        "outputId": "afe0baf9-618e-4e8b-b49f-c00d7e8e71e3"
      },
      "outputs": [
        {
          "data": {
            "text/plain": [
              "0.2222222222222222"
            ]
          },
          "execution_count": 67,
          "metadata": {},
          "output_type": "execute_result"
        }
      ],
      "source": [
        "np.var(arr1)"
      ]
    },
    {
      "cell_type": "code",
      "execution_count": null,
      "id": "539cc7c5-1894-4638-9db0-fc6040fd08a6",
      "metadata": {
        "id": "539cc7c5-1894-4638-9db0-fc6040fd08a6",
        "outputId": "146c6061-618b-49ca-ba06-026f62a7c433"
      },
      "outputs": [
        {
          "data": {
            "text/plain": [
              "array([[ 0,  1, -1],\n",
              "       [ 1,  1,  0],\n",
              "       [ 0,  0,  0]])"
            ]
          },
          "execution_count": 68,
          "metadata": {},
          "output_type": "execute_result"
        }
      ],
      "source": [
        "arr1-arr2"
      ]
    },
    {
      "cell_type": "code",
      "execution_count": null,
      "id": "1f17a9cd-c071-408f-82b6-07c4ba2eab22",
      "metadata": {
        "id": "1f17a9cd-c071-408f-82b6-07c4ba2eab22",
        "outputId": "c149bafa-5211-40ce-a227-9ac6b303e154"
      },
      "outputs": [
        {
          "data": {
            "text/plain": [
              "array([[ 0,  1, -1],\n",
              "       [ 1,  1,  0],\n",
              "       [ 0,  0,  0]])"
            ]
          },
          "execution_count": 69,
          "metadata": {},
          "output_type": "execute_result"
        }
      ],
      "source": [
        "np.subtract(arr1, arr2)"
      ]
    },
    {
      "cell_type": "code",
      "execution_count": null,
      "id": "110b0f73-77fe-4c53-a507-92b77c9d9252",
      "metadata": {
        "id": "110b0f73-77fe-4c53-a507-92b77c9d9252",
        "outputId": "62148e65-1738-4098-cacd-999e256ca97f"
      },
      "outputs": [
        {
          "data": {
            "text/plain": [
              "array([[4, 2, 2],\n",
              "       [2, 2, 1],\n",
              "       [4, 4, 1]])"
            ]
          },
          "execution_count": 70,
          "metadata": {},
          "output_type": "execute_result"
        }
      ],
      "source": [
        "arr1*arr2"
      ]
    },
    {
      "cell_type": "code",
      "execution_count": null,
      "id": "8f7ad2f1-5332-4ae9-b09f-1200302286c4",
      "metadata": {
        "id": "8f7ad2f1-5332-4ae9-b09f-1200302286c4",
        "outputId": "17273343-789c-4546-9c59-ad3015076031"
      },
      "outputs": [
        {
          "data": {
            "text/plain": [
              "array([[4, 2, 2],\n",
              "       [2, 2, 1],\n",
              "       [4, 4, 1]])"
            ]
          },
          "execution_count": 72,
          "metadata": {},
          "output_type": "execute_result"
        }
      ],
      "source": [
        "np.multiply(arr1, arr2)"
      ]
    },
    {
      "cell_type": "code",
      "execution_count": null,
      "id": "014fa7a5-fcdb-4812-9733-9e40154a9a8e",
      "metadata": {
        "id": "014fa7a5-fcdb-4812-9733-9e40154a9a8e",
        "outputId": "99f54289-bc5c-4303-e560-d1b34466364d"
      },
      "outputs": [
        {
          "data": {
            "text/plain": [
              "array([[0, 0, 1],\n",
              "       [0, 0, 0],\n",
              "       [0, 0, 0]])"
            ]
          },
          "execution_count": 73,
          "metadata": {},
          "output_type": "execute_result"
        }
      ],
      "source": [
        "np.mod(arr1, arr2) #return element wise remainder"
      ]
    },
    {
      "cell_type": "code",
      "execution_count": null,
      "id": "7e9f828d-178b-4ae2-b723-b2e7ec82af58",
      "metadata": {
        "id": "7e9f828d-178b-4ae2-b723-b2e7ec82af58",
        "outputId": "135683f7-e934-4031-bb9e-e3e44e990c61"
      },
      "outputs": [
        {
          "data": {
            "text/plain": [
              "array([[1.41421356, 1.41421356, 1.        ],\n",
              "       [1.41421356, 1.41421356, 1.        ],\n",
              "       [1.41421356, 1.41421356, 1.        ]])"
            ]
          },
          "execution_count": 74,
          "metadata": {},
          "output_type": "execute_result"
        }
      ],
      "source": [
        "np.sqrt(arr1)"
      ]
    },
    {
      "cell_type": "code",
      "execution_count": null,
      "id": "3c9c6e7c-ead5-4e0f-8355-f80620c44268",
      "metadata": {
        "id": "3c9c6e7c-ead5-4e0f-8355-f80620c44268"
      },
      "outputs": [],
      "source": [
        "#sorting and searching in numpy array\n",
        "e = np.array([5, 6, 1, 2])"
      ]
    },
    {
      "cell_type": "code",
      "execution_count": null,
      "id": "032c2e54-3df0-474a-8814-51c80320ba88",
      "metadata": {
        "id": "032c2e54-3df0-474a-8814-51c80320ba88",
        "outputId": "94455f50-a1d0-474c-beb0-3cb1e3428c3b"
      },
      "outputs": [
        {
          "data": {
            "text/plain": [
              "array([5, 6, 1, 2])"
            ]
          },
          "execution_count": 76,
          "metadata": {},
          "output_type": "execute_result"
        }
      ],
      "source": [
        "e"
      ]
    },
    {
      "cell_type": "code",
      "execution_count": null,
      "id": "d512fb58-8c21-4e49-8775-688cd7a4c85d",
      "metadata": {
        "id": "d512fb58-8c21-4e49-8775-688cd7a4c85d",
        "outputId": "cbfa41b8-5296-4c31-8f58-06ebb968da81"
      },
      "outputs": [
        {
          "data": {
            "text/plain": [
              "array([1, 2, 5, 6])"
            ]
          },
          "execution_count": 77,
          "metadata": {},
          "output_type": "execute_result"
        }
      ],
      "source": [
        "np.sort(e) #Return a sorted copy of an array."
      ]
    },
    {
      "cell_type": "code",
      "execution_count": null,
      "id": "5d313f5f-8f32-4aee-8c65-429aa6b51519",
      "metadata": {
        "id": "5d313f5f-8f32-4aee-8c65-429aa6b51519",
        "outputId": "187b88cd-fe65-4127-c8f8-9a7baf4e5998"
      },
      "outputs": [
        {
          "data": {
            "text/plain": [
              "array([  5, 199, 200,   6,   7,   8])"
            ]
          },
          "execution_count": 78,
          "metadata": {},
          "output_type": "execute_result"
        }
      ],
      "source": [
        "f = np.array([5, 199, 200, 6, 7, 8])\n",
        "f"
      ]
    },
    {
      "cell_type": "code",
      "execution_count": null,
      "id": "5e3fc176-943f-42f8-b21e-4d13f0fb67e1",
      "metadata": {
        "id": "5e3fc176-943f-42f8-b21e-4d13f0fb67e1",
        "outputId": "8c349a72-678a-47e0-f2ba-da1bda6764e0"
      },
      "outputs": [
        {
          "data": {
            "text/plain": [
              "array([  5,   6,   7,   8, 199, 200])"
            ]
          },
          "execution_count": 79,
          "metadata": {},
          "output_type": "execute_result"
        }
      ],
      "source": [
        "np.sort(f)"
      ]
    },
    {
      "cell_type": "code",
      "execution_count": null,
      "id": "c17e92da-cdb8-45e1-831f-0e0d5ce09bba",
      "metadata": {
        "id": "c17e92da-cdb8-45e1-831f-0e0d5ce09bba",
        "outputId": "0d797c98-7e5d-488b-bd7d-e1a4458c8f65"
      },
      "outputs": [
        {
          "data": {
            "text/plain": [
              "6"
            ]
          },
          "execution_count": 80,
          "metadata": {},
          "output_type": "execute_result"
        }
      ],
      "source": [
        "np.searchsorted(f, 170) #Find indices where elements should be inserted to maintain order."
      ]
    },
    {
      "cell_type": "code",
      "execution_count": null,
      "id": "2d3daab4-931b-4990-b5b1-661d8cfd7309",
      "metadata": {
        "id": "2d3daab4-931b-4990-b5b1-661d8cfd7309",
        "outputId": "839bed09-3a8e-4801-be91-8d4f0168aac0"
      },
      "outputs": [
        {
          "data": {
            "text/plain": [
              "array([  5, 199, 200,   0,   0,   0,   0,   6,   7,   8])"
            ]
          },
          "execution_count": 81,
          "metadata": {},
          "output_type": "execute_result"
        }
      ],
      "source": [
        "f = np.array([5, 199, 200,0, 0, 0, 0, 6, 7, 8])\n",
        "f"
      ]
    },
    {
      "cell_type": "code",
      "execution_count": null,
      "id": "01be724b-8d7b-43be-94b1-8bfcc7369e83",
      "metadata": {
        "id": "01be724b-8d7b-43be-94b1-8bfcc7369e83",
        "outputId": "06216a05-1e78-4010-bea6-bb40eec36e37"
      },
      "outputs": [
        {
          "data": {
            "text/plain": [
              "6"
            ]
          },
          "execution_count": 83,
          "metadata": {},
          "output_type": "execute_result"
        }
      ],
      "source": [
        "np.count_nonzero(f)"
      ]
    },
    {
      "cell_type": "code",
      "execution_count": null,
      "id": "321697f5-839e-489b-97ca-f46ad03c6435",
      "metadata": {
        "id": "321697f5-839e-489b-97ca-f46ad03c6435",
        "outputId": "0adbc5bb-0c6d-4b3d-d433-3ee95b4c35fc"
      },
      "outputs": [
        {
          "data": {
            "text/plain": [
              "array([  5, 199, 200,   6,   7,   8])"
            ]
          },
          "execution_count": 85,
          "metadata": {},
          "output_type": "execute_result"
        }
      ],
      "source": [
        "f[f>0]"
      ]
    },
    {
      "cell_type": "code",
      "execution_count": null,
      "id": "875a48dd-a3fd-4bf7-b7b4-9a5cdb5dadf5",
      "metadata": {
        "id": "875a48dd-a3fd-4bf7-b7b4-9a5cdb5dadf5",
        "outputId": "eac95012-54c5-4d37-8e5b-cb5f2b49debf"
      },
      "outputs": [
        {
          "data": {
            "text/plain": [
              "(array([0, 1, 2, 7, 8, 9]),)"
            ]
          },
          "execution_count": 86,
          "metadata": {},
          "output_type": "execute_result"
        }
      ],
      "source": [
        "np.where(f>0) #same as above condition"
      ]
    },
    {
      "cell_type": "code",
      "execution_count": null,
      "id": "45b440ff-741f-4bb4-86c0-6aa1eb64b558",
      "metadata": {
        "id": "45b440ff-741f-4bb4-86c0-6aa1eb64b558",
        "outputId": "c8742e6e-c5a1-4687-b865-ef0407f45fcb"
      },
      "outputs": [
        {
          "data": {
            "text/plain": [
              "array([  5, 199, 200,   6,   7,   8])"
            ]
          },
          "execution_count": 87,
          "metadata": {},
          "output_type": "execute_result"
        }
      ],
      "source": [
        "np.extract(f>0, f) #same as above condition"
      ]
    },
    {
      "cell_type": "code",
      "execution_count": null,
      "id": "234aeb1e-2894-4312-9fff-58926b209e47",
      "metadata": {
        "id": "234aeb1e-2894-4312-9fff-58926b209e47",
        "outputId": "040a4bb2-ed3d-4c2b-8766-de5211169bdb"
      },
      "outputs": [
        {
          "data": {
            "text/plain": [
              "array([  5, 199, 200,   0,   0,   0,   0,   6,   7,   8])"
            ]
          },
          "execution_count": 88,
          "metadata": {},
          "output_type": "execute_result"
        }
      ],
      "source": [
        "f"
      ]
    },
    {
      "cell_type": "code",
      "execution_count": null,
      "id": "381edee1-2e3d-4c66-ac96-51c51c7e6d2a",
      "metadata": {
        "id": "381edee1-2e3d-4c66-ac96-51c51c7e6d2a",
        "outputId": "1c421a68-bf89-4af2-cfc0-38e05f27cc5f"
      },
      "outputs": [
        {
          "data": {
            "text/plain": [
              "array([  360287970189639680, -4107282860161892352, -4035225266123964416,\n",
              "                          0,                    0,                    0,\n",
              "                          0,   432345564227567616,   504403158265495552,\n",
              "         576460752303423488])"
            ]
          },
          "execution_count": 89,
          "metadata": {},
          "output_type": "execute_result"
        }
      ],
      "source": [
        "f.byteswap() #Swap the bytes of the array elements"
      ]
    },
    {
      "cell_type": "code",
      "execution_count": null,
      "id": "337ca5ba-f8b2-45e6-bb31-ce0e5a2fdf5b",
      "metadata": {
        "id": "337ca5ba-f8b2-45e6-bb31-ce0e5a2fdf5b",
        "outputId": "fb4d2f0d-df0d-4768-f288-fdd127bdb4df"
      },
      "outputs": [
        {
          "data": {
            "text/plain": [
              "matrix([[0., 0., 0., 0., 0.]])"
            ]
          },
          "execution_count": 90,
          "metadata": {},
          "output_type": "execute_result"
        }
      ],
      "source": [
        "import numpy.matlib as nm\n",
        "nm.zeros(5)"
      ]
    },
    {
      "cell_type": "code",
      "execution_count": null,
      "id": "fdbff4a4-c2b9-46e4-a04f-35c2aeaa2784",
      "metadata": {
        "id": "fdbff4a4-c2b9-46e4-a04f-35c2aeaa2784",
        "outputId": "6a5e5cfa-0400-4fc2-bbf0-62471eb5c37b"
      },
      "outputs": [
        {
          "data": {
            "text/plain": [
              "matrix([[1., 1., 1., 1.],\n",
              "        [1., 1., 1., 1.],\n",
              "        [1., 1., 1., 1.]])"
            ]
          },
          "execution_count": 92,
          "metadata": {},
          "output_type": "execute_result"
        }
      ],
      "source": [
        "nm.ones((3, 4))"
      ]
    },
    {
      "cell_type": "code",
      "execution_count": null,
      "id": "311637cd-e7a7-4900-b14a-94085bd8c9ed",
      "metadata": {
        "id": "311637cd-e7a7-4900-b14a-94085bd8c9ed"
      },
      "outputs": [],
      "source": [
        "#numpy linear algebra(optonal)"
      ]
    },
    {
      "cell_type": "code",
      "execution_count": null,
      "id": "2b987811-28b7-4fad-813a-d194a6224f50",
      "metadata": {
        "id": "2b987811-28b7-4fad-813a-d194a6224f50",
        "outputId": "f00cab48-70be-48d2-813d-577238dc86c5"
      },
      "outputs": [
        {
          "data": {
            "text/plain": [
              "array([[2, 2, 1],\n",
              "       [2, 2, 1],\n",
              "       [2, 2, 1]])"
            ]
          },
          "execution_count": 94,
          "metadata": {},
          "output_type": "execute_result"
        }
      ],
      "source": [
        "arr1"
      ]
    },
    {
      "cell_type": "code",
      "execution_count": null,
      "id": "31a8ebc9-1e9b-485e-a7c9-34d7155d2605",
      "metadata": {
        "id": "31a8ebc9-1e9b-485e-a7c9-34d7155d2605",
        "outputId": "0811448d-3006-4466-e43e-8384086cf9eb"
      },
      "outputs": [
        {
          "data": {
            "text/plain": [
              "array([[2, 1, 2],\n",
              "       [1, 1, 1],\n",
              "       [2, 2, 1]])"
            ]
          },
          "execution_count": 95,
          "metadata": {},
          "output_type": "execute_result"
        }
      ],
      "source": [
        "arr2"
      ]
    },
    {
      "cell_type": "code",
      "execution_count": null,
      "id": "3a874d84-d4fd-4911-a442-ccf4b268646c",
      "metadata": {
        "id": "3a874d84-d4fd-4911-a442-ccf4b268646c",
        "outputId": "14ab0c9b-46f3-45b9-a6ef-fe24a418cc50"
      },
      "outputs": [
        {
          "data": {
            "text/plain": [
              "array([[8, 6, 7],\n",
              "       [8, 6, 7],\n",
              "       [8, 6, 7]])"
            ]
          },
          "execution_count": 96,
          "metadata": {},
          "output_type": "execute_result"
        }
      ],
      "source": [
        "arr1@arr2"
      ]
    },
    {
      "cell_type": "code",
      "execution_count": null,
      "id": "4e80397f-9cd4-4bd2-bf03-fadcbe9127cc",
      "metadata": {
        "id": "4e80397f-9cd4-4bd2-bf03-fadcbe9127cc",
        "outputId": "a034bc0e-7f22-4032-d179-c2d7e5634c2d"
      },
      "outputs": [
        {
          "data": {
            "text/plain": [
              "array([[2, 2, 1],\n",
              "       [2, 2, 1],\n",
              "       [2, 2, 1]])"
            ]
          },
          "execution_count": 97,
          "metadata": {},
          "output_type": "execute_result"
        }
      ],
      "source": [
        "arr1"
      ]
    },
    {
      "cell_type": "code",
      "execution_count": null,
      "id": "aeab5f20-59e7-4b1f-8d48-f8a5e5fb4fe5",
      "metadata": {
        "id": "aeab5f20-59e7-4b1f-8d48-f8a5e5fb4fe5",
        "outputId": "fcba8e44-2c02-4ab9-c467-1948d889b018"
      },
      "outputs": [
        {
          "data": {
            "text/plain": [
              "0.0"
            ]
          },
          "execution_count": 98,
          "metadata": {},
          "output_type": "execute_result"
        }
      ],
      "source": [
        "np.linalg.det(arr1)"
      ]
    },
    {
      "cell_type": "code",
      "execution_count": null,
      "id": "bc8130cf-ef91-4329-bc30-ff53850624e2",
      "metadata": {
        "id": "bc8130cf-ef91-4329-bc30-ff53850624e2",
        "outputId": "2075df88-2366-4a92-d15b-7de97f506e52"
      },
      "outputs": [
        {
          "data": {
            "text/plain": [
              "-1.0"
            ]
          },
          "execution_count": 99,
          "metadata": {},
          "output_type": "execute_result"
        }
      ],
      "source": [
        "np.linalg.det(arr2)"
      ]
    },
    {
      "cell_type": "code",
      "execution_count": null,
      "id": "cd6ae451-6cd8-4c66-9f4f-3df46287f789",
      "metadata": {
        "id": "cd6ae451-6cd8-4c66-9f4f-3df46287f789",
        "outputId": "517bb644-f8fe-4f21-c973-812a7d43c387"
      },
      "outputs": [
        {
          "data": {
            "text/plain": [
              "array([[ 1., -3.,  1.],\n",
              "       [-1.,  2.,  0.],\n",
              "       [ 0.,  2., -1.]])"
            ]
          },
          "execution_count": 101,
          "metadata": {},
          "output_type": "execute_result"
        }
      ],
      "source": [
        "#in matrix you can not devide by another matrix, you have inverse\n",
        "np.linalg.inv(arr2)"
      ]
    },
    {
      "cell_type": "code",
      "execution_count": null,
      "id": "a9fb40e8-c449-412a-9578-229e5cdde1f7",
      "metadata": {
        "id": "a9fb40e8-c449-412a-9578-229e5cdde1f7",
        "outputId": "75f3ac96-e205-4516-c3a2-b7fe4c5c24cd"
      },
      "outputs": [
        {
          "data": {
            "text/plain": [
              "array([[ 7. ,  5.3, -3. ],\n",
              "       [ 3. , -5. ,  2. ],\n",
              "       [ 5. ,  3. , -7. ]])"
            ]
          },
          "execution_count": 102,
          "metadata": {},
          "output_type": "execute_result"
        }
      ],
      "source": [
        "a = np.array([[7, 5.3, -3], [3, -5, 2], [5, 3, -7]])\n",
        "a"
      ]
    },
    {
      "cell_type": "code",
      "execution_count": null,
      "id": "fe571c51-1823-4972-8f75-b32936f592c4",
      "metadata": {
        "id": "fe571c51-1823-4972-8f75-b32936f592c4"
      },
      "outputs": [],
      "source": [
        "b = np.array([16, 8, 0])"
      ]
    },
    {
      "cell_type": "code",
      "execution_count": null,
      "id": "f5f8368b-13b9-4669-ba03-eae1bd4ac1f8",
      "metadata": {
        "id": "f5f8368b-13b9-4669-ba03-eae1bd4ac1f8",
        "outputId": "c4a3d0b5-48e3-4423-d31f-62155555f026"
      },
      "outputs": [
        {
          "data": {
            "text/plain": [
              "array([2.59630607, 0.84432718, 2.21635884])"
            ]
          },
          "execution_count": 104,
          "metadata": {},
          "output_type": "execute_result"
        }
      ],
      "source": [
        "np.linalg.solve(a, b)"
      ]
    },
    {
      "cell_type": "code",
      "execution_count": null,
      "id": "9d33e0cf-76be-4d9b-8306-608dde0cd933",
      "metadata": {
        "id": "9d33e0cf-76be-4d9b-8306-608dde0cd933"
      },
      "outputs": [],
      "source": []
    }
  ],
  "metadata": {
    "kernelspec": {
      "display_name": "Python 3 (ipykernel)",
      "language": "python",
      "name": "python3"
    },
    "language_info": {
      "codemirror_mode": {
        "name": "ipython",
        "version": 3
      },
      "file_extension": ".py",
      "mimetype": "text/x-python",
      "name": "python",
      "nbconvert_exporter": "python",
      "pygments_lexer": "ipython3",
      "version": "3.10.8"
    },
    "colab": {
      "provenance": [],
      "include_colab_link": true
    }
  },
  "nbformat": 4,
  "nbformat_minor": 5
}