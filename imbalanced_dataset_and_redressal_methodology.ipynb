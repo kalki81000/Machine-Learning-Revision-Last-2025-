{
  "cells": [
    {
      "cell_type": "markdown",
      "metadata": {
        "id": "view-in-github",
        "colab_type": "text"
      },
      "source": [
        "<a href=\"https://colab.research.google.com/github/kalki81000/Machine-Learning-Revision-Last-2025-/blob/main/imbalanced_dataset_and_redressal_methodology.ipynb\" target=\"_parent\"><img src=\"https://colab.research.google.com/assets/colab-badge.svg\" alt=\"Open In Colab\"/></a>"
      ]
    },
    {
      "cell_type": "code",
      "execution_count": null,
      "id": "3a099bb7",
      "metadata": {
        "id": "3a099bb7"
      },
      "outputs": [],
      "source": [
        "#class imbalance >> when one class has higher percentage\n",
        "#handle class imbalance problem\n",
        "\n",
        "#upsampling\n",
        "#downsampling\n",
        "#SMOTE"
      ]
    },
    {
      "cell_type": "code",
      "execution_count": null,
      "id": "50d225e9",
      "metadata": {
        "id": "50d225e9"
      },
      "outputs": [],
      "source": [
        "import numpy as np\n",
        "import pandas as pd\n",
        "\n",
        "np.random.seed(1) #for reproducibility\n",
        "\n",
        "no_samples = 1000\n",
        "class_0_ratio = 0.9\n",
        "no_class_0 = int(no_samples * class_0_ratio)\n",
        "no_class_1 = 100"
      ]
    },
    {
      "cell_type": "code",
      "execution_count": null,
      "id": "69858fc5",
      "metadata": {
        "id": "69858fc5",
        "outputId": "17f01bb5-1ed9-4457-d8c1-6470d7dd456f"
      },
      "outputs": [
        {
          "data": {
            "text/plain": [
              "(900, 100)"
            ]
          },
          "execution_count": 2,
          "metadata": {},
          "output_type": "execute_result"
        }
      ],
      "source": [
        "no_class_0, no_class_1"
      ]
    },
    {
      "cell_type": "code",
      "execution_count": null,
      "id": "ece823af",
      "metadata": {
        "id": "ece823af",
        "outputId": "a2fc94ec-749b-4558-8b5e-c2b42e424944"
      },
      "outputs": [
        {
          "data": {
            "text/plain": [
              "900"
            ]
          },
          "execution_count": 4,
          "metadata": {},
          "output_type": "execute_result"
        }
      ],
      "source": [
        "len(np.random.normal(0, 1, no_class_0))"
      ]
    },
    {
      "cell_type": "code",
      "execution_count": null,
      "id": "7cb012de",
      "metadata": {
        "id": "7cb012de"
      },
      "outputs": [],
      "source": [
        "class_0 = {'feature1': np.random.normal(0, 1, no_class_0),\n",
        "          'feature2': np.random.normal(0, 1, no_class_0),\n",
        "          'target': [0]*no_class_0}"
      ]
    },
    {
      "cell_type": "code",
      "execution_count": null,
      "id": "d866c2b5",
      "metadata": {
        "id": "d866c2b5"
      },
      "outputs": [],
      "source": [
        "class_0 = pd.DataFrame(class_0)"
      ]
    },
    {
      "cell_type": "code",
      "execution_count": null,
      "id": "86a3211c",
      "metadata": {
        "id": "86a3211c",
        "outputId": "6e69bbc3-6eb1-4f9a-e074-273f79c20a62"
      },
      "outputs": [
        {
          "data": {
            "text/html": [
              "<div>\n",
              "<style scoped>\n",
              "    .dataframe tbody tr th:only-of-type {\n",
              "        vertical-align: middle;\n",
              "    }\n",
              "\n",
              "    .dataframe tbody tr th {\n",
              "        vertical-align: top;\n",
              "    }\n",
              "\n",
              "    .dataframe thead th {\n",
              "        text-align: right;\n",
              "    }\n",
              "</style>\n",
              "<table border=\"1\" class=\"dataframe\">\n",
              "  <thead>\n",
              "    <tr style=\"text-align: right;\">\n",
              "      <th></th>\n",
              "      <th>feature1</th>\n",
              "      <th>feature2</th>\n",
              "      <th>target</th>\n",
              "    </tr>\n",
              "  </thead>\n",
              "  <tbody>\n",
              "    <tr>\n",
              "      <th>0</th>\n",
              "      <td>1.624345</td>\n",
              "      <td>-0.446699</td>\n",
              "      <td>0</td>\n",
              "    </tr>\n",
              "    <tr>\n",
              "      <th>1</th>\n",
              "      <td>-0.611756</td>\n",
              "      <td>0.204377</td>\n",
              "      <td>0</td>\n",
              "    </tr>\n",
              "    <tr>\n",
              "      <th>2</th>\n",
              "      <td>-0.528172</td>\n",
              "      <td>0.612233</td>\n",
              "      <td>0</td>\n",
              "    </tr>\n",
              "    <tr>\n",
              "      <th>3</th>\n",
              "      <td>-1.072969</td>\n",
              "      <td>0.744885</td>\n",
              "      <td>0</td>\n",
              "    </tr>\n",
              "    <tr>\n",
              "      <th>4</th>\n",
              "      <td>0.865408</td>\n",
              "      <td>-0.036281</td>\n",
              "      <td>0</td>\n",
              "    </tr>\n",
              "    <tr>\n",
              "      <th>...</th>\n",
              "      <td>...</td>\n",
              "      <td>...</td>\n",
              "      <td>...</td>\n",
              "    </tr>\n",
              "    <tr>\n",
              "      <th>895</th>\n",
              "      <td>0.578464</td>\n",
              "      <td>0.833679</td>\n",
              "      <td>0</td>\n",
              "    </tr>\n",
              "    <tr>\n",
              "      <th>896</th>\n",
              "      <td>-0.961264</td>\n",
              "      <td>2.160456</td>\n",
              "      <td>0</td>\n",
              "    </tr>\n",
              "    <tr>\n",
              "      <th>897</th>\n",
              "      <td>-1.458324</td>\n",
              "      <td>1.998992</td>\n",
              "      <td>0</td>\n",
              "    </tr>\n",
              "    <tr>\n",
              "      <th>898</th>\n",
              "      <td>0.494342</td>\n",
              "      <td>0.764041</td>\n",
              "      <td>0</td>\n",
              "    </tr>\n",
              "    <tr>\n",
              "      <th>899</th>\n",
              "      <td>-1.494194</td>\n",
              "      <td>1.687255</td>\n",
              "      <td>0</td>\n",
              "    </tr>\n",
              "  </tbody>\n",
              "</table>\n",
              "<p>900 rows × 3 columns</p>\n",
              "</div>"
            ],
            "text/plain": [
              "     feature1  feature2  target\n",
              "0    1.624345 -0.446699       0\n",
              "1   -0.611756  0.204377       0\n",
              "2   -0.528172  0.612233       0\n",
              "3   -1.072969  0.744885       0\n",
              "4    0.865408 -0.036281       0\n",
              "..        ...       ...     ...\n",
              "895  0.578464  0.833679       0\n",
              "896 -0.961264  2.160456       0\n",
              "897 -1.458324  1.998992       0\n",
              "898  0.494342  0.764041       0\n",
              "899 -1.494194  1.687255       0\n",
              "\n",
              "[900 rows x 3 columns]"
            ]
          },
          "execution_count": 5,
          "metadata": {},
          "output_type": "execute_result"
        }
      ],
      "source": [
        "class_0"
      ]
    },
    {
      "cell_type": "code",
      "execution_count": null,
      "id": "d12198f1",
      "metadata": {
        "id": "d12198f1"
      },
      "outputs": [],
      "source": [
        "class_1 = pd.DataFrame({'feature1': np.random.normal(3, 1, no_class_1),\n",
        "          'feature2': np.random.normal(3, 1, no_class_1),\n",
        "          'target': [1]*no_class_1})"
      ]
    },
    {
      "cell_type": "code",
      "execution_count": null,
      "id": "f31106eb",
      "metadata": {
        "id": "f31106eb",
        "outputId": "b4883312-b084-4ea1-bff1-c6e82e10d9ed"
      },
      "outputs": [
        {
          "data": {
            "text/html": [
              "<div>\n",
              "<style scoped>\n",
              "    .dataframe tbody tr th:only-of-type {\n",
              "        vertical-align: middle;\n",
              "    }\n",
              "\n",
              "    .dataframe tbody tr th {\n",
              "        vertical-align: top;\n",
              "    }\n",
              "\n",
              "    .dataframe thead th {\n",
              "        text-align: right;\n",
              "    }\n",
              "</style>\n",
              "<table border=\"1\" class=\"dataframe\">\n",
              "  <thead>\n",
              "    <tr style=\"text-align: right;\">\n",
              "      <th></th>\n",
              "      <th>feature1</th>\n",
              "      <th>feature2</th>\n",
              "      <th>target</th>\n",
              "    </tr>\n",
              "  </thead>\n",
              "  <tbody>\n",
              "    <tr>\n",
              "      <th>0</th>\n",
              "      <td>1.692029</td>\n",
              "      <td>3.933630</td>\n",
              "      <td>1</td>\n",
              "    </tr>\n",
              "    <tr>\n",
              "      <th>1</th>\n",
              "      <td>4.472396</td>\n",
              "      <td>1.236225</td>\n",
              "      <td>1</td>\n",
              "    </tr>\n",
              "    <tr>\n",
              "      <th>2</th>\n",
              "      <td>3.074876</td>\n",
              "      <td>2.589783</td>\n",
              "      <td>1</td>\n",
              "    </tr>\n",
              "    <tr>\n",
              "      <th>3</th>\n",
              "      <td>1.213065</td>\n",
              "      <td>2.546333</td>\n",
              "      <td>1</td>\n",
              "    </tr>\n",
              "    <tr>\n",
              "      <th>4</th>\n",
              "      <td>3.165211</td>\n",
              "      <td>2.410570</td>\n",
              "      <td>1</td>\n",
              "    </tr>\n",
              "    <tr>\n",
              "      <th>...</th>\n",
              "      <td>...</td>\n",
              "      <td>...</td>\n",
              "      <td>...</td>\n",
              "    </tr>\n",
              "    <tr>\n",
              "      <th>95</th>\n",
              "      <td>3.213026</td>\n",
              "      <td>3.188583</td>\n",
              "      <td>1</td>\n",
              "    </tr>\n",
              "    <tr>\n",
              "      <th>96</th>\n",
              "      <td>2.195458</td>\n",
              "      <td>3.560918</td>\n",
              "      <td>1</td>\n",
              "    </tr>\n",
              "    <tr>\n",
              "      <th>97</th>\n",
              "      <td>2.353418</td>\n",
              "      <td>2.078341</td>\n",
              "      <td>1</td>\n",
              "    </tr>\n",
              "    <tr>\n",
              "      <th>98</th>\n",
              "      <td>4.138173</td>\n",
              "      <td>3.647375</td>\n",
              "      <td>1</td>\n",
              "    </tr>\n",
              "    <tr>\n",
              "      <th>99</th>\n",
              "      <td>3.295440</td>\n",
              "      <td>4.386826</td>\n",
              "      <td>1</td>\n",
              "    </tr>\n",
              "  </tbody>\n",
              "</table>\n",
              "<p>100 rows × 3 columns</p>\n",
              "</div>"
            ],
            "text/plain": [
              "    feature1  feature2  target\n",
              "0   1.692029  3.933630       1\n",
              "1   4.472396  1.236225       1\n",
              "2   3.074876  2.589783       1\n",
              "3   1.213065  2.546333       1\n",
              "4   3.165211  2.410570       1\n",
              "..       ...       ...     ...\n",
              "95  3.213026  3.188583       1\n",
              "96  2.195458  3.560918       1\n",
              "97  2.353418  2.078341       1\n",
              "98  4.138173  3.647375       1\n",
              "99  3.295440  4.386826       1\n",
              "\n",
              "[100 rows x 3 columns]"
            ]
          },
          "execution_count": 7,
          "metadata": {},
          "output_type": "execute_result"
        }
      ],
      "source": [
        "class_1"
      ]
    },
    {
      "cell_type": "code",
      "execution_count": null,
      "id": "71d951bd",
      "metadata": {
        "id": "71d951bd"
      },
      "outputs": [],
      "source": [
        "df = pd.concat([class_0, class_1]).reset_index(drop = True)"
      ]
    },
    {
      "cell_type": "code",
      "execution_count": null,
      "id": "81939d7c",
      "metadata": {
        "id": "81939d7c",
        "outputId": "b105a516-711a-4726-8fff-87efdd30f1b2"
      },
      "outputs": [
        {
          "data": {
            "text/html": [
              "<div>\n",
              "<style scoped>\n",
              "    .dataframe tbody tr th:only-of-type {\n",
              "        vertical-align: middle;\n",
              "    }\n",
              "\n",
              "    .dataframe tbody tr th {\n",
              "        vertical-align: top;\n",
              "    }\n",
              "\n",
              "    .dataframe thead th {\n",
              "        text-align: right;\n",
              "    }\n",
              "</style>\n",
              "<table border=\"1\" class=\"dataframe\">\n",
              "  <thead>\n",
              "    <tr style=\"text-align: right;\">\n",
              "      <th></th>\n",
              "      <th>feature1</th>\n",
              "      <th>feature2</th>\n",
              "      <th>target</th>\n",
              "    </tr>\n",
              "  </thead>\n",
              "  <tbody>\n",
              "    <tr>\n",
              "      <th>0</th>\n",
              "      <td>1.624345</td>\n",
              "      <td>-0.446699</td>\n",
              "      <td>0</td>\n",
              "    </tr>\n",
              "    <tr>\n",
              "      <th>1</th>\n",
              "      <td>-0.611756</td>\n",
              "      <td>0.204377</td>\n",
              "      <td>0</td>\n",
              "    </tr>\n",
              "    <tr>\n",
              "      <th>2</th>\n",
              "      <td>-0.528172</td>\n",
              "      <td>0.612233</td>\n",
              "      <td>0</td>\n",
              "    </tr>\n",
              "    <tr>\n",
              "      <th>3</th>\n",
              "      <td>-1.072969</td>\n",
              "      <td>0.744885</td>\n",
              "      <td>0</td>\n",
              "    </tr>\n",
              "    <tr>\n",
              "      <th>4</th>\n",
              "      <td>0.865408</td>\n",
              "      <td>-0.036281</td>\n",
              "      <td>0</td>\n",
              "    </tr>\n",
              "    <tr>\n",
              "      <th>...</th>\n",
              "      <td>...</td>\n",
              "      <td>...</td>\n",
              "      <td>...</td>\n",
              "    </tr>\n",
              "    <tr>\n",
              "      <th>995</th>\n",
              "      <td>3.213026</td>\n",
              "      <td>3.188583</td>\n",
              "      <td>1</td>\n",
              "    </tr>\n",
              "    <tr>\n",
              "      <th>996</th>\n",
              "      <td>2.195458</td>\n",
              "      <td>3.560918</td>\n",
              "      <td>1</td>\n",
              "    </tr>\n",
              "    <tr>\n",
              "      <th>997</th>\n",
              "      <td>2.353418</td>\n",
              "      <td>2.078341</td>\n",
              "      <td>1</td>\n",
              "    </tr>\n",
              "    <tr>\n",
              "      <th>998</th>\n",
              "      <td>4.138173</td>\n",
              "      <td>3.647375</td>\n",
              "      <td>1</td>\n",
              "    </tr>\n",
              "    <tr>\n",
              "      <th>999</th>\n",
              "      <td>3.295440</td>\n",
              "      <td>4.386826</td>\n",
              "      <td>1</td>\n",
              "    </tr>\n",
              "  </tbody>\n",
              "</table>\n",
              "<p>1000 rows × 3 columns</p>\n",
              "</div>"
            ],
            "text/plain": [
              "     feature1  feature2  target\n",
              "0    1.624345 -0.446699       0\n",
              "1   -0.611756  0.204377       0\n",
              "2   -0.528172  0.612233       0\n",
              "3   -1.072969  0.744885       0\n",
              "4    0.865408 -0.036281       0\n",
              "..        ...       ...     ...\n",
              "995  3.213026  3.188583       1\n",
              "996  2.195458  3.560918       1\n",
              "997  2.353418  2.078341       1\n",
              "998  4.138173  3.647375       1\n",
              "999  3.295440  4.386826       1\n",
              "\n",
              "[1000 rows x 3 columns]"
            ]
          },
          "execution_count": 9,
          "metadata": {},
          "output_type": "execute_result"
        }
      ],
      "source": [
        "df"
      ]
    },
    {
      "cell_type": "code",
      "execution_count": null,
      "id": "60e26fb2",
      "metadata": {
        "id": "60e26fb2",
        "outputId": "e3d8ff8b-501c-4b4c-9cdf-af71f247806f"
      },
      "outputs": [
        {
          "data": {
            "text/plain": [
              "target\n",
              "0    900\n",
              "1    100\n",
              "Name: count, dtype: int64"
            ]
          },
          "execution_count": 10,
          "metadata": {},
          "output_type": "execute_result"
        }
      ],
      "source": [
        "df.target.value_counts()"
      ]
    },
    {
      "cell_type": "code",
      "execution_count": null,
      "id": "3941c4ee",
      "metadata": {
        "id": "3941c4ee"
      },
      "outputs": [],
      "source": [
        "#upsampling\n",
        "\n",
        "df_minority = df[df.target == 1]\n",
        "df_majority = df[df.target == 0]"
      ]
    },
    {
      "cell_type": "code",
      "execution_count": null,
      "id": "b2ebaba5",
      "metadata": {
        "id": "b2ebaba5"
      },
      "outputs": [],
      "source": [
        "from sklearn.utils import resample"
      ]
    },
    {
      "cell_type": "code",
      "execution_count": null,
      "id": "64d631d7",
      "metadata": {
        "id": "64d631d7"
      },
      "outputs": [],
      "source": [
        "#replace = True with replacement\n",
        "df_minority_upsampled = resample(df_minority, replace = True, n_samples = len(df_majority), random_state = 1)"
      ]
    },
    {
      "cell_type": "code",
      "execution_count": null,
      "id": "de1cbe9e",
      "metadata": {
        "id": "de1cbe9e",
        "outputId": "565c6838-03d2-4b62-f552-f8ac139b5407"
      },
      "outputs": [
        {
          "data": {
            "text/plain": [
              "(900, 3)"
            ]
          },
          "execution_count": 14,
          "metadata": {},
          "output_type": "execute_result"
        }
      ],
      "source": [
        "df_minority_upsampled.shape"
      ]
    },
    {
      "cell_type": "code",
      "execution_count": null,
      "id": "7acf8e22",
      "metadata": {
        "id": "7acf8e22",
        "outputId": "5f8f8da1-2dd1-422b-e7aa-a82c7b78d51e"
      },
      "outputs": [
        {
          "data": {
            "text/html": [
              "<div>\n",
              "<style scoped>\n",
              "    .dataframe tbody tr th:only-of-type {\n",
              "        vertical-align: middle;\n",
              "    }\n",
              "\n",
              "    .dataframe tbody tr th {\n",
              "        vertical-align: top;\n",
              "    }\n",
              "\n",
              "    .dataframe thead th {\n",
              "        text-align: right;\n",
              "    }\n",
              "</style>\n",
              "<table border=\"1\" class=\"dataframe\">\n",
              "  <thead>\n",
              "    <tr style=\"text-align: right;\">\n",
              "      <th></th>\n",
              "      <th>feature1</th>\n",
              "      <th>feature2</th>\n",
              "      <th>target</th>\n",
              "    </tr>\n",
              "  </thead>\n",
              "  <tbody>\n",
              "    <tr>\n",
              "      <th>937</th>\n",
              "      <td>2.253776</td>\n",
              "      <td>1.681477</td>\n",
              "      <td>1</td>\n",
              "    </tr>\n",
              "    <tr>\n",
              "      <th>912</th>\n",
              "      <td>2.448320</td>\n",
              "      <td>2.898619</td>\n",
              "      <td>1</td>\n",
              "    </tr>\n",
              "    <tr>\n",
              "      <th>972</th>\n",
              "      <td>2.541698</td>\n",
              "      <td>2.700847</td>\n",
              "      <td>1</td>\n",
              "    </tr>\n",
              "    <tr>\n",
              "      <th>909</th>\n",
              "      <td>1.724886</td>\n",
              "      <td>1.748043</td>\n",
              "      <td>1</td>\n",
              "    </tr>\n",
              "    <tr>\n",
              "      <th>975</th>\n",
              "      <td>2.427974</td>\n",
              "      <td>4.613562</td>\n",
              "      <td>1</td>\n",
              "    </tr>\n",
              "  </tbody>\n",
              "</table>\n",
              "</div>"
            ],
            "text/plain": [
              "     feature1  feature2  target\n",
              "937  2.253776  1.681477       1\n",
              "912  2.448320  2.898619       1\n",
              "972  2.541698  2.700847       1\n",
              "909  1.724886  1.748043       1\n",
              "975  2.427974  4.613562       1"
            ]
          },
          "execution_count": 15,
          "metadata": {},
          "output_type": "execute_result"
        }
      ],
      "source": [
        "df_minority_upsampled.head()"
      ]
    },
    {
      "cell_type": "code",
      "execution_count": null,
      "id": "0a9bb4be",
      "metadata": {
        "id": "0a9bb4be",
        "outputId": "c22198fc-942a-4027-f375-3ebc8604a799"
      },
      "outputs": [
        {
          "data": {
            "text/html": [
              "<div>\n",
              "<style scoped>\n",
              "    .dataframe tbody tr th:only-of-type {\n",
              "        vertical-align: middle;\n",
              "    }\n",
              "\n",
              "    .dataframe tbody tr th {\n",
              "        vertical-align: top;\n",
              "    }\n",
              "\n",
              "    .dataframe thead th {\n",
              "        text-align: right;\n",
              "    }\n",
              "</style>\n",
              "<table border=\"1\" class=\"dataframe\">\n",
              "  <thead>\n",
              "    <tr style=\"text-align: right;\">\n",
              "      <th></th>\n",
              "      <th>feature1</th>\n",
              "      <th>feature2</th>\n",
              "      <th>target</th>\n",
              "    </tr>\n",
              "  </thead>\n",
              "  <tbody>\n",
              "    <tr>\n",
              "      <th>0</th>\n",
              "      <td>1.624345</td>\n",
              "      <td>-0.446699</td>\n",
              "      <td>0</td>\n",
              "    </tr>\n",
              "    <tr>\n",
              "      <th>1</th>\n",
              "      <td>-0.611756</td>\n",
              "      <td>0.204377</td>\n",
              "      <td>0</td>\n",
              "    </tr>\n",
              "    <tr>\n",
              "      <th>2</th>\n",
              "      <td>-0.528172</td>\n",
              "      <td>0.612233</td>\n",
              "      <td>0</td>\n",
              "    </tr>\n",
              "    <tr>\n",
              "      <th>3</th>\n",
              "      <td>-1.072969</td>\n",
              "      <td>0.744885</td>\n",
              "      <td>0</td>\n",
              "    </tr>\n",
              "    <tr>\n",
              "      <th>4</th>\n",
              "      <td>0.865408</td>\n",
              "      <td>-0.036281</td>\n",
              "      <td>0</td>\n",
              "    </tr>\n",
              "    <tr>\n",
              "      <th>...</th>\n",
              "      <td>...</td>\n",
              "      <td>...</td>\n",
              "      <td>...</td>\n",
              "    </tr>\n",
              "    <tr>\n",
              "      <th>936</th>\n",
              "      <td>4.093307</td>\n",
              "      <td>2.373543</td>\n",
              "      <td>1</td>\n",
              "    </tr>\n",
              "    <tr>\n",
              "      <th>998</th>\n",
              "      <td>4.138173</td>\n",
              "      <td>3.647375</td>\n",
              "      <td>1</td>\n",
              "    </tr>\n",
              "    <tr>\n",
              "      <th>901</th>\n",
              "      <td>4.472396</td>\n",
              "      <td>1.236225</td>\n",
              "      <td>1</td>\n",
              "    </tr>\n",
              "    <tr>\n",
              "      <th>932</th>\n",
              "      <td>1.965537</td>\n",
              "      <td>4.084419</td>\n",
              "      <td>1</td>\n",
              "    </tr>\n",
              "    <tr>\n",
              "      <th>930</th>\n",
              "      <td>3.047535</td>\n",
              "      <td>4.701235</td>\n",
              "      <td>1</td>\n",
              "    </tr>\n",
              "  </tbody>\n",
              "</table>\n",
              "<p>1800 rows × 3 columns</p>\n",
              "</div>"
            ],
            "text/plain": [
              "     feature1  feature2  target\n",
              "0    1.624345 -0.446699       0\n",
              "1   -0.611756  0.204377       0\n",
              "2   -0.528172  0.612233       0\n",
              "3   -1.072969  0.744885       0\n",
              "4    0.865408 -0.036281       0\n",
              "..        ...       ...     ...\n",
              "936  4.093307  2.373543       1\n",
              "998  4.138173  3.647375       1\n",
              "901  4.472396  1.236225       1\n",
              "932  1.965537  4.084419       1\n",
              "930  3.047535  4.701235       1\n",
              "\n",
              "[1800 rows x 3 columns]"
            ]
          },
          "execution_count": 16,
          "metadata": {},
          "output_type": "execute_result"
        }
      ],
      "source": [
        "df_upsampled = pd.concat([df_majority, df_minority_upsampled])\n",
        "df_upsampled"
      ]
    },
    {
      "cell_type": "code",
      "execution_count": null,
      "id": "9bd8184c",
      "metadata": {
        "id": "9bd8184c",
        "outputId": "73c8d4f0-571f-4650-a3fd-c127e2cc19f9"
      },
      "outputs": [
        {
          "data": {
            "text/plain": [
              "target\n",
              "0    900\n",
              "1    900\n",
              "Name: count, dtype: int64"
            ]
          },
          "execution_count": 17,
          "metadata": {},
          "output_type": "execute_result"
        }
      ],
      "source": [
        "df_upsampled.target.value_counts()"
      ]
    },
    {
      "cell_type": "code",
      "execution_count": null,
      "id": "edfe8913",
      "metadata": {
        "id": "edfe8913",
        "outputId": "333b42d8-50eb-4d8d-8b85-321d4adeab88"
      },
      "outputs": [
        {
          "data": {
            "text/html": [
              "<div>\n",
              "<style scoped>\n",
              "    .dataframe tbody tr th:only-of-type {\n",
              "        vertical-align: middle;\n",
              "    }\n",
              "\n",
              "    .dataframe tbody tr th {\n",
              "        vertical-align: top;\n",
              "    }\n",
              "\n",
              "    .dataframe thead th {\n",
              "        text-align: right;\n",
              "    }\n",
              "</style>\n",
              "<table border=\"1\" class=\"dataframe\">\n",
              "  <thead>\n",
              "    <tr style=\"text-align: right;\">\n",
              "      <th></th>\n",
              "      <th>feature1</th>\n",
              "      <th>feature2</th>\n",
              "      <th>target</th>\n",
              "    </tr>\n",
              "  </thead>\n",
              "  <tbody>\n",
              "    <tr>\n",
              "      <th>900</th>\n",
              "      <td>1.692029</td>\n",
              "      <td>3.933630</td>\n",
              "      <td>1</td>\n",
              "    </tr>\n",
              "    <tr>\n",
              "      <th>901</th>\n",
              "      <td>4.472396</td>\n",
              "      <td>1.236225</td>\n",
              "      <td>1</td>\n",
              "    </tr>\n",
              "    <tr>\n",
              "      <th>902</th>\n",
              "      <td>3.074876</td>\n",
              "      <td>2.589783</td>\n",
              "      <td>1</td>\n",
              "    </tr>\n",
              "    <tr>\n",
              "      <th>903</th>\n",
              "      <td>1.213065</td>\n",
              "      <td>2.546333</td>\n",
              "      <td>1</td>\n",
              "    </tr>\n",
              "    <tr>\n",
              "      <th>904</th>\n",
              "      <td>3.165211</td>\n",
              "      <td>2.410570</td>\n",
              "      <td>1</td>\n",
              "    </tr>\n",
              "    <tr>\n",
              "      <th>...</th>\n",
              "      <td>...</td>\n",
              "      <td>...</td>\n",
              "      <td>...</td>\n",
              "    </tr>\n",
              "    <tr>\n",
              "      <th>995</th>\n",
              "      <td>3.213026</td>\n",
              "      <td>3.188583</td>\n",
              "      <td>1</td>\n",
              "    </tr>\n",
              "    <tr>\n",
              "      <th>996</th>\n",
              "      <td>2.195458</td>\n",
              "      <td>3.560918</td>\n",
              "      <td>1</td>\n",
              "    </tr>\n",
              "    <tr>\n",
              "      <th>997</th>\n",
              "      <td>2.353418</td>\n",
              "      <td>2.078341</td>\n",
              "      <td>1</td>\n",
              "    </tr>\n",
              "    <tr>\n",
              "      <th>998</th>\n",
              "      <td>4.138173</td>\n",
              "      <td>3.647375</td>\n",
              "      <td>1</td>\n",
              "    </tr>\n",
              "    <tr>\n",
              "      <th>999</th>\n",
              "      <td>3.295440</td>\n",
              "      <td>4.386826</td>\n",
              "      <td>1</td>\n",
              "    </tr>\n",
              "  </tbody>\n",
              "</table>\n",
              "<p>100 rows × 3 columns</p>\n",
              "</div>"
            ],
            "text/plain": [
              "     feature1  feature2  target\n",
              "900  1.692029  3.933630       1\n",
              "901  4.472396  1.236225       1\n",
              "902  3.074876  2.589783       1\n",
              "903  1.213065  2.546333       1\n",
              "904  3.165211  2.410570       1\n",
              "..        ...       ...     ...\n",
              "995  3.213026  3.188583       1\n",
              "996  2.195458  3.560918       1\n",
              "997  2.353418  2.078341       1\n",
              "998  4.138173  3.647375       1\n",
              "999  3.295440  4.386826       1\n",
              "\n",
              "[100 rows x 3 columns]"
            ]
          },
          "execution_count": 18,
          "metadata": {},
          "output_type": "execute_result"
        }
      ],
      "source": [
        "#downsampling\n",
        "df_minority"
      ]
    },
    {
      "cell_type": "code",
      "execution_count": null,
      "id": "f8128034",
      "metadata": {
        "id": "f8128034",
        "outputId": "32684427-3dd2-4b41-c0b8-0cc038ee152c"
      },
      "outputs": [
        {
          "data": {
            "text/html": [
              "<div>\n",
              "<style scoped>\n",
              "    .dataframe tbody tr th:only-of-type {\n",
              "        vertical-align: middle;\n",
              "    }\n",
              "\n",
              "    .dataframe tbody tr th {\n",
              "        vertical-align: top;\n",
              "    }\n",
              "\n",
              "    .dataframe thead th {\n",
              "        text-align: right;\n",
              "    }\n",
              "</style>\n",
              "<table border=\"1\" class=\"dataframe\">\n",
              "  <thead>\n",
              "    <tr style=\"text-align: right;\">\n",
              "      <th></th>\n",
              "      <th>feature1</th>\n",
              "      <th>feature2</th>\n",
              "      <th>target</th>\n",
              "    </tr>\n",
              "  </thead>\n",
              "  <tbody>\n",
              "    <tr>\n",
              "      <th>0</th>\n",
              "      <td>1.624345</td>\n",
              "      <td>-0.446699</td>\n",
              "      <td>0</td>\n",
              "    </tr>\n",
              "    <tr>\n",
              "      <th>1</th>\n",
              "      <td>-0.611756</td>\n",
              "      <td>0.204377</td>\n",
              "      <td>0</td>\n",
              "    </tr>\n",
              "    <tr>\n",
              "      <th>2</th>\n",
              "      <td>-0.528172</td>\n",
              "      <td>0.612233</td>\n",
              "      <td>0</td>\n",
              "    </tr>\n",
              "    <tr>\n",
              "      <th>3</th>\n",
              "      <td>-1.072969</td>\n",
              "      <td>0.744885</td>\n",
              "      <td>0</td>\n",
              "    </tr>\n",
              "    <tr>\n",
              "      <th>4</th>\n",
              "      <td>0.865408</td>\n",
              "      <td>-0.036281</td>\n",
              "      <td>0</td>\n",
              "    </tr>\n",
              "    <tr>\n",
              "      <th>...</th>\n",
              "      <td>...</td>\n",
              "      <td>...</td>\n",
              "      <td>...</td>\n",
              "    </tr>\n",
              "    <tr>\n",
              "      <th>895</th>\n",
              "      <td>0.578464</td>\n",
              "      <td>0.833679</td>\n",
              "      <td>0</td>\n",
              "    </tr>\n",
              "    <tr>\n",
              "      <th>896</th>\n",
              "      <td>-0.961264</td>\n",
              "      <td>2.160456</td>\n",
              "      <td>0</td>\n",
              "    </tr>\n",
              "    <tr>\n",
              "      <th>897</th>\n",
              "      <td>-1.458324</td>\n",
              "      <td>1.998992</td>\n",
              "      <td>0</td>\n",
              "    </tr>\n",
              "    <tr>\n",
              "      <th>898</th>\n",
              "      <td>0.494342</td>\n",
              "      <td>0.764041</td>\n",
              "      <td>0</td>\n",
              "    </tr>\n",
              "    <tr>\n",
              "      <th>899</th>\n",
              "      <td>-1.494194</td>\n",
              "      <td>1.687255</td>\n",
              "      <td>0</td>\n",
              "    </tr>\n",
              "  </tbody>\n",
              "</table>\n",
              "<p>900 rows × 3 columns</p>\n",
              "</div>"
            ],
            "text/plain": [
              "     feature1  feature2  target\n",
              "0    1.624345 -0.446699       0\n",
              "1   -0.611756  0.204377       0\n",
              "2   -0.528172  0.612233       0\n",
              "3   -1.072969  0.744885       0\n",
              "4    0.865408 -0.036281       0\n",
              "..        ...       ...     ...\n",
              "895  0.578464  0.833679       0\n",
              "896 -0.961264  2.160456       0\n",
              "897 -1.458324  1.998992       0\n",
              "898  0.494342  0.764041       0\n",
              "899 -1.494194  1.687255       0\n",
              "\n",
              "[900 rows x 3 columns]"
            ]
          },
          "execution_count": 19,
          "metadata": {},
          "output_type": "execute_result"
        }
      ],
      "source": [
        "df_majority"
      ]
    },
    {
      "cell_type": "code",
      "execution_count": null,
      "id": "6c6c9522",
      "metadata": {
        "id": "6c6c9522"
      },
      "outputs": [],
      "source": [
        "df_majority_downsampled = resample(df_majority, replace = False, n_samples = len(df_minority), random_state = 1)"
      ]
    },
    {
      "cell_type": "code",
      "execution_count": null,
      "id": "ddd83263",
      "metadata": {
        "id": "ddd83263"
      },
      "outputs": [],
      "source": [
        "df_downsampled = pd.concat([df_minority, df_majority_downsampled])"
      ]
    },
    {
      "cell_type": "code",
      "execution_count": null,
      "id": "82e23e27",
      "metadata": {
        "id": "82e23e27",
        "outputId": "b76dad77-6191-4b91-a837-76f4f30fe936"
      },
      "outputs": [
        {
          "data": {
            "text/html": [
              "<div>\n",
              "<style scoped>\n",
              "    .dataframe tbody tr th:only-of-type {\n",
              "        vertical-align: middle;\n",
              "    }\n",
              "\n",
              "    .dataframe tbody tr th {\n",
              "        vertical-align: top;\n",
              "    }\n",
              "\n",
              "    .dataframe thead th {\n",
              "        text-align: right;\n",
              "    }\n",
              "</style>\n",
              "<table border=\"1\" class=\"dataframe\">\n",
              "  <thead>\n",
              "    <tr style=\"text-align: right;\">\n",
              "      <th></th>\n",
              "      <th>feature1</th>\n",
              "      <th>feature2</th>\n",
              "      <th>target</th>\n",
              "    </tr>\n",
              "  </thead>\n",
              "  <tbody>\n",
              "    <tr>\n",
              "      <th>900</th>\n",
              "      <td>1.692029</td>\n",
              "      <td>3.933630</td>\n",
              "      <td>1</td>\n",
              "    </tr>\n",
              "    <tr>\n",
              "      <th>901</th>\n",
              "      <td>4.472396</td>\n",
              "      <td>1.236225</td>\n",
              "      <td>1</td>\n",
              "    </tr>\n",
              "    <tr>\n",
              "      <th>902</th>\n",
              "      <td>3.074876</td>\n",
              "      <td>2.589783</td>\n",
              "      <td>1</td>\n",
              "    </tr>\n",
              "    <tr>\n",
              "      <th>903</th>\n",
              "      <td>1.213065</td>\n",
              "      <td>2.546333</td>\n",
              "      <td>1</td>\n",
              "    </tr>\n",
              "    <tr>\n",
              "      <th>904</th>\n",
              "      <td>3.165211</td>\n",
              "      <td>2.410570</td>\n",
              "      <td>1</td>\n",
              "    </tr>\n",
              "    <tr>\n",
              "      <th>...</th>\n",
              "      <td>...</td>\n",
              "      <td>...</td>\n",
              "      <td>...</td>\n",
              "    </tr>\n",
              "    <tr>\n",
              "      <th>494</th>\n",
              "      <td>-1.579156</td>\n",
              "      <td>2.711950</td>\n",
              "      <td>0</td>\n",
              "    </tr>\n",
              "    <tr>\n",
              "      <th>255</th>\n",
              "      <td>-1.044589</td>\n",
              "      <td>0.522655</td>\n",
              "      <td>0</td>\n",
              "    </tr>\n",
              "    <tr>\n",
              "      <th>672</th>\n",
              "      <td>0.410266</td>\n",
              "      <td>0.683356</td>\n",
              "      <td>0</td>\n",
              "    </tr>\n",
              "    <tr>\n",
              "      <th>481</th>\n",
              "      <td>-1.114871</td>\n",
              "      <td>-0.800787</td>\n",
              "      <td>0</td>\n",
              "    </tr>\n",
              "    <tr>\n",
              "      <th>838</th>\n",
              "      <td>0.394428</td>\n",
              "      <td>-0.698571</td>\n",
              "      <td>0</td>\n",
              "    </tr>\n",
              "  </tbody>\n",
              "</table>\n",
              "<p>200 rows × 3 columns</p>\n",
              "</div>"
            ],
            "text/plain": [
              "     feature1  feature2  target\n",
              "900  1.692029  3.933630       1\n",
              "901  4.472396  1.236225       1\n",
              "902  3.074876  2.589783       1\n",
              "903  1.213065  2.546333       1\n",
              "904  3.165211  2.410570       1\n",
              "..        ...       ...     ...\n",
              "494 -1.579156  2.711950       0\n",
              "255 -1.044589  0.522655       0\n",
              "672  0.410266  0.683356       0\n",
              "481 -1.114871 -0.800787       0\n",
              "838  0.394428 -0.698571       0\n",
              "\n",
              "[200 rows x 3 columns]"
            ]
          },
          "execution_count": 22,
          "metadata": {},
          "output_type": "execute_result"
        }
      ],
      "source": [
        "df_downsampled"
      ]
    },
    {
      "cell_type": "code",
      "execution_count": null,
      "id": "52b85f8d",
      "metadata": {
        "id": "52b85f8d",
        "outputId": "aceb76f4-1803-4b8d-dbef-944bbc7b7a55"
      },
      "outputs": [
        {
          "data": {
            "text/plain": [
              "target\n",
              "1    100\n",
              "0    100\n",
              "Name: count, dtype: int64"
            ]
          },
          "execution_count": 23,
          "metadata": {},
          "output_type": "execute_result"
        }
      ],
      "source": [
        "df_downsampled.target.value_counts()"
      ]
    },
    {
      "cell_type": "code",
      "execution_count": null,
      "id": "38a5d13d",
      "metadata": {
        "id": "38a5d13d"
      },
      "outputs": [],
      "source": [
        "##SMOTE>> Synthetic Minority oversampling technique"
      ]
    },
    {
      "cell_type": "code",
      "execution_count": null,
      "id": "3d16951e",
      "metadata": {
        "id": "3d16951e"
      },
      "outputs": [],
      "source": [
        "from sklearn.datasets import make_classification"
      ]
    },
    {
      "cell_type": "code",
      "execution_count": null,
      "id": "6405ba09",
      "metadata": {
        "id": "6405ba09"
      },
      "outputs": [],
      "source": [
        "X, y = make_classification(n_samples = 1000, n_redundant=0, n_features = 2, n_clusters_per_class=1, weights = [0.90], random_state=1)"
      ]
    },
    {
      "cell_type": "code",
      "execution_count": null,
      "id": "a54011eb",
      "metadata": {
        "id": "a54011eb",
        "outputId": "1fed99b9-84d9-4b6b-daff-fbf213c726db"
      },
      "outputs": [
        {
          "data": {
            "text/plain": [
              "array([[ 1.53682958, -1.39869399],\n",
              "       [ 1.55110839,  1.81032905],\n",
              "       [ 1.29361936,  1.01094607],\n",
              "       ...,\n",
              "       [-0.55662536, -0.15983725],\n",
              "       [ 1.00499902,  0.93628981],\n",
              "       [ 1.46210987,  1.14497791]])"
            ]
          },
          "execution_count": 27,
          "metadata": {},
          "output_type": "execute_result"
        }
      ],
      "source": [
        "X"
      ]
    },
    {
      "cell_type": "code",
      "execution_count": null,
      "id": "65602bf7",
      "metadata": {
        "id": "65602bf7",
        "outputId": "3807c62b-fc5e-4d5d-a6c9-30686756c9db"
      },
      "outputs": [
        {
          "data": {
            "text/plain": [
              "array([1, 0, 0, 0, 0, 0, 0, 0, 1, 0, 0, 0, 0, 0, 1, 0, 0, 1, 0, 0, 1, 0,\n",
              "       0, 0, 0, 1, 0, 0, 0, 0, 0, 0, 0, 1, 0, 0, 0, 0, 0, 0, 0, 0, 0, 0,\n",
              "       0, 0, 0, 0, 0, 0, 0, 0, 0, 0, 0, 0, 0, 1, 0, 1, 0, 0, 0, 0, 0, 1,\n",
              "       0, 0, 0, 0, 0, 0, 0, 0, 0, 0, 1, 0, 0, 0, 0, 0, 0, 0, 0, 1, 0, 0,\n",
              "       0, 0, 0, 0, 0, 0, 0, 0, 0, 0, 0, 0, 1, 0, 1, 0, 0, 0, 0, 0, 1, 0,\n",
              "       0, 0, 0, 0, 0, 0, 0, 0, 1, 0, 0, 1, 0, 0, 0, 0, 1, 0, 0, 0, 0, 0,\n",
              "       0, 0, 0, 0, 0, 0, 1, 0, 0, 0, 0, 1, 0, 0, 0, 0, 0, 0, 1, 0, 0, 0,\n",
              "       1, 0, 0, 0, 0, 1, 0, 0, 0, 0, 0, 0, 0, 0, 0, 0, 0, 0, 0, 0, 0, 0,\n",
              "       0, 0, 0, 1, 1, 0, 1, 1, 1, 0, 1, 0, 0, 0, 0, 0, 0, 0, 0, 0, 0, 0,\n",
              "       0, 0, 0, 0, 0, 0, 0, 0, 0, 0, 0, 0, 1, 0, 0, 0, 1, 0, 0, 0, 0, 0,\n",
              "       0, 0, 0, 0, 0, 0, 0, 0, 1, 0, 0, 0, 0, 0, 0, 0, 0, 0, 0, 1, 0, 1,\n",
              "       0, 0, 1, 0, 0, 0, 0, 0, 0, 0, 0, 1, 0, 0, 0, 0, 0, 0, 0, 0, 0, 0,\n",
              "       0, 0, 0, 0, 0, 1, 0, 0, 0, 0, 0, 0, 0, 0, 1, 0, 0, 0, 0, 1, 0, 0,\n",
              "       0, 0, 0, 0, 0, 0, 0, 0, 0, 0, 0, 0, 0, 0, 0, 1, 0, 0, 0, 0, 1, 0,\n",
              "       0, 0, 1, 0, 0, 0, 0, 0, 0, 0, 0, 0, 0, 0, 0, 0, 0, 0, 0, 0, 1, 1,\n",
              "       0, 0, 0, 0, 0, 1, 0, 0, 0, 0, 1, 0, 0, 0, 0, 0, 0, 0, 0, 0, 0, 0,\n",
              "       0, 0, 1, 0, 0, 0, 0, 0, 0, 0, 0, 0, 0, 0, 0, 0, 0, 0, 0, 0, 0, 0,\n",
              "       0, 0, 0, 0, 0, 1, 1, 1, 0, 0, 0, 0, 0, 0, 0, 0, 0, 0, 0, 0, 0, 0,\n",
              "       0, 0, 0, 0, 0, 0, 0, 0, 0, 0, 0, 0, 0, 0, 0, 0, 0, 1, 0, 1, 0, 0,\n",
              "       0, 0, 0, 0, 0, 0, 0, 0, 0, 1, 0, 0, 0, 0, 0, 0, 0, 0, 1, 0, 0, 0,\n",
              "       0, 1, 0, 0, 0, 0, 0, 0, 0, 0, 0, 0, 0, 1, 0, 0, 0, 0, 0, 0, 1, 0,\n",
              "       0, 1, 0, 0, 0, 0, 0, 0, 0, 0, 0, 0, 0, 0, 0, 0, 0, 0, 0, 0, 0, 0,\n",
              "       0, 0, 0, 0, 0, 0, 0, 0, 0, 0, 0, 0, 0, 1, 1, 0, 1, 0, 0, 0, 0, 0,\n",
              "       0, 0, 0, 1, 0, 0, 0, 0, 0, 0, 1, 1, 1, 0, 0, 0, 0, 1, 0, 0, 0, 0,\n",
              "       0, 0, 0, 0, 0, 0, 0, 0, 1, 0, 0, 0, 0, 0, 0, 0, 0, 0, 0, 0, 0, 0,\n",
              "       0, 0, 1, 0, 1, 0, 1, 1, 1, 0, 0, 1, 0, 0, 1, 0, 0, 0, 0, 0, 0, 0,\n",
              "       0, 0, 0, 0, 1, 1, 0, 0, 0, 0, 0, 0, 0, 0, 0, 0, 1, 0, 1, 0, 0, 0,\n",
              "       0, 0, 0, 1, 0, 1, 0, 0, 0, 0, 0, 0, 0, 0, 0, 0, 0, 0, 0, 0, 0, 0,\n",
              "       0, 0, 0, 0, 0, 0, 0, 0, 0, 0, 0, 0, 0, 0, 0, 0, 0, 0, 1, 0, 0, 0,\n",
              "       0, 0, 0, 0, 0, 0, 0, 0, 0, 0, 1, 0, 0, 0, 0, 0, 0, 0, 0, 0, 0, 0,\n",
              "       0, 0, 0, 1, 1, 0, 0, 0, 0, 0, 0, 1, 0, 0, 0, 1, 0, 0, 0, 1, 0, 0,\n",
              "       0, 0, 0, 0, 0, 0, 0, 0, 0, 0, 0, 0, 1, 0, 0, 0, 0, 0, 0, 0, 0, 0,\n",
              "       0, 0, 0, 0, 0, 1, 0, 0, 0, 0, 0, 0, 0, 0, 0, 0, 0, 0, 0, 0, 0, 0,\n",
              "       0, 0, 0, 0, 0, 0, 0, 0, 0, 0, 0, 0, 0, 0, 0, 0, 0, 0, 0, 0, 0, 0,\n",
              "       0, 0, 0, 1, 0, 0, 0, 0, 0, 0, 0, 0, 0, 0, 0, 0, 0, 0, 0, 0, 0, 0,\n",
              "       0, 0, 0, 0, 0, 0, 0, 1, 0, 1, 0, 0, 0, 0, 0, 0, 0, 0, 0, 0, 0, 0,\n",
              "       0, 0, 1, 1, 0, 0, 0, 0, 0, 0, 0, 0, 0, 0, 0, 0, 0, 0, 0, 0, 0, 0,\n",
              "       1, 0, 0, 0, 0, 0, 0, 0, 0, 0, 0, 0, 1, 0, 0, 0, 0, 0, 0, 0, 0, 0,\n",
              "       0, 0, 0, 0, 1, 0, 0, 0, 0, 0, 0, 0, 0, 0, 0, 0, 0, 0, 0, 0, 0, 0,\n",
              "       0, 0, 0, 0, 0, 0, 0, 0, 0, 0, 0, 0, 0, 0, 0, 0, 0, 0, 0, 0, 0, 0,\n",
              "       0, 0, 0, 0, 0, 0, 0, 0, 0, 1, 0, 0, 0, 0, 0, 0, 0, 0, 1, 0, 0, 0,\n",
              "       0, 1, 0, 0, 0, 0, 0, 0, 0, 0, 0, 1, 0, 0, 0, 0, 0, 0, 0, 0, 0, 0,\n",
              "       0, 1, 0, 0, 0, 0, 0, 0, 0, 0, 0, 0, 1, 0, 0, 0, 0, 0, 0, 0, 0, 0,\n",
              "       0, 0, 0, 0, 0, 1, 0, 1, 0, 0, 0, 0, 0, 0, 0, 0, 0, 0, 0, 1, 0, 0,\n",
              "       0, 0, 0, 0, 0, 0, 0, 0, 0, 0, 0, 0, 0, 0, 0, 0, 0, 0, 0, 0, 0, 0,\n",
              "       0, 0, 0, 0, 0, 0, 0, 0, 0, 0])"
            ]
          },
          "execution_count": 28,
          "metadata": {},
          "output_type": "execute_result"
        }
      ],
      "source": [
        "y"
      ]
    },
    {
      "cell_type": "code",
      "execution_count": null,
      "id": "292b455a",
      "metadata": {
        "id": "292b455a",
        "outputId": "00f39a55-6f09-4d92-e7fe-5bf5a9e57b92"
      },
      "outputs": [
        {
          "data": {
            "text/plain": [
              "894"
            ]
          },
          "execution_count": 31,
          "metadata": {},
          "output_type": "execute_result"
        }
      ],
      "source": [
        "len(y[y==0])"
      ]
    },
    {
      "cell_type": "code",
      "execution_count": null,
      "id": "c9b446d6",
      "metadata": {
        "id": "c9b446d6",
        "outputId": "c545be8d-9cfa-4d26-fa4c-809ad6c0302b"
      },
      "outputs": [
        {
          "data": {
            "text/html": [
              "<div>\n",
              "<style scoped>\n",
              "    .dataframe tbody tr th:only-of-type {\n",
              "        vertical-align: middle;\n",
              "    }\n",
              "\n",
              "    .dataframe tbody tr th {\n",
              "        vertical-align: top;\n",
              "    }\n",
              "\n",
              "    .dataframe thead th {\n",
              "        text-align: right;\n",
              "    }\n",
              "</style>\n",
              "<table border=\"1\" class=\"dataframe\">\n",
              "  <thead>\n",
              "    <tr style=\"text-align: right;\">\n",
              "      <th></th>\n",
              "      <th>f1</th>\n",
              "      <th>f2</th>\n",
              "      <th>target</th>\n",
              "    </tr>\n",
              "  </thead>\n",
              "  <tbody>\n",
              "    <tr>\n",
              "      <th>0</th>\n",
              "      <td>1.536830</td>\n",
              "      <td>-1.398694</td>\n",
              "      <td>1</td>\n",
              "    </tr>\n",
              "    <tr>\n",
              "      <th>1</th>\n",
              "      <td>1.551108</td>\n",
              "      <td>1.810329</td>\n",
              "      <td>0</td>\n",
              "    </tr>\n",
              "    <tr>\n",
              "      <th>2</th>\n",
              "      <td>1.293619</td>\n",
              "      <td>1.010946</td>\n",
              "      <td>0</td>\n",
              "    </tr>\n",
              "    <tr>\n",
              "      <th>3</th>\n",
              "      <td>1.119889</td>\n",
              "      <td>1.632518</td>\n",
              "      <td>0</td>\n",
              "    </tr>\n",
              "    <tr>\n",
              "      <th>4</th>\n",
              "      <td>1.042356</td>\n",
              "      <td>1.121529</td>\n",
              "      <td>0</td>\n",
              "    </tr>\n",
              "    <tr>\n",
              "      <th>...</th>\n",
              "      <td>...</td>\n",
              "      <td>...</td>\n",
              "      <td>...</td>\n",
              "    </tr>\n",
              "    <tr>\n",
              "      <th>995</th>\n",
              "      <td>2.210439</td>\n",
              "      <td>2.006772</td>\n",
              "      <td>0</td>\n",
              "    </tr>\n",
              "    <tr>\n",
              "      <th>996</th>\n",
              "      <td>1.910941</td>\n",
              "      <td>2.011860</td>\n",
              "      <td>0</td>\n",
              "    </tr>\n",
              "    <tr>\n",
              "      <th>997</th>\n",
              "      <td>-0.556625</td>\n",
              "      <td>-0.159837</td>\n",
              "      <td>0</td>\n",
              "    </tr>\n",
              "    <tr>\n",
              "      <th>998</th>\n",
              "      <td>1.004999</td>\n",
              "      <td>0.936290</td>\n",
              "      <td>0</td>\n",
              "    </tr>\n",
              "    <tr>\n",
              "      <th>999</th>\n",
              "      <td>1.462110</td>\n",
              "      <td>1.144978</td>\n",
              "      <td>0</td>\n",
              "    </tr>\n",
              "  </tbody>\n",
              "</table>\n",
              "<p>1000 rows × 3 columns</p>\n",
              "</div>"
            ],
            "text/plain": [
              "           f1        f2  target\n",
              "0    1.536830 -1.398694       1\n",
              "1    1.551108  1.810329       0\n",
              "2    1.293619  1.010946       0\n",
              "3    1.119889  1.632518       0\n",
              "4    1.042356  1.121529       0\n",
              "..        ...       ...     ...\n",
              "995  2.210439  2.006772       0\n",
              "996  1.910941  2.011860       0\n",
              "997 -0.556625 -0.159837       0\n",
              "998  1.004999  0.936290       0\n",
              "999  1.462110  1.144978       0\n",
              "\n",
              "[1000 rows x 3 columns]"
            ]
          },
          "execution_count": 29,
          "metadata": {},
          "output_type": "execute_result"
        }
      ],
      "source": [
        "df1 = pd.DataFrame(X, columns = ['f1', 'f2'])\n",
        "df2 = pd.DataFrame(y, columns = ['target'])\n",
        "final_df = pd.concat([df1, df2], axis=1)\n",
        "final_df"
      ]
    },
    {
      "cell_type": "code",
      "execution_count": null,
      "id": "91388c60",
      "metadata": {
        "id": "91388c60",
        "outputId": "1e6ed898-abad-4f36-97f8-8a3d8632c46c"
      },
      "outputs": [
        {
          "data": {
            "text/plain": [
              "target\n",
              "0    894\n",
              "1    106\n",
              "Name: count, dtype: int64"
            ]
          },
          "execution_count": 30,
          "metadata": {},
          "output_type": "execute_result"
        }
      ],
      "source": [
        "final_df.target.value_counts()"
      ]
    },
    {
      "cell_type": "code",
      "execution_count": null,
      "id": "c54222a4",
      "metadata": {
        "id": "c54222a4",
        "outputId": "464b3614-237c-459c-92d8-44494f376a64"
      },
      "outputs": [
        {
          "data": {
            "text/plain": [
              "<matplotlib.collections.PathCollection at 0x18b28a4c850>"
            ]
          },
          "execution_count": 31,
          "metadata": {},
          "output_type": "execute_result"
        },
        {
          "data": {
            "image/png": "[encoded data removed]",
            "text/plain": [
              "<Figure size 640x480 with 1 Axes>"
            ]
          },
          "metadata": {},
          "output_type": "display_data"
        }
      ],
      "source": [
        "import matplotlib.pyplot as plt\n",
        "plt.scatter(final_df['f1'], final_df['f2'], c = final_df['target'])"
      ]
    },
    {
      "cell_type": "code",
      "execution_count": null,
      "id": "3f5be68c",
      "metadata": {
        "id": "3f5be68c"
      },
      "outputs": [],
      "source": [
        "#!pip install imblearn"
      ]
    },
    {
      "cell_type": "code",
      "execution_count": null,
      "id": "8fca091e",
      "metadata": {
        "id": "8fca091e"
      },
      "outputs": [],
      "source": [
        "from imblearn.over_sampling import SMOTE"
      ]
    },
    {
      "cell_type": "code",
      "execution_count": null,
      "id": "456543bb",
      "metadata": {
        "id": "456543bb"
      },
      "outputs": [],
      "source": [
        "oversample = SMOTE()"
      ]
    },
    {
      "cell_type": "code",
      "execution_count": null,
      "id": "fb13bf24",
      "metadata": {
        "id": "fb13bf24"
      },
      "outputs": [],
      "source": [
        "X, y = oversample.fit_resample(final_df[['f1', 'f2']], final_df['target'])"
      ]
    },
    {
      "cell_type": "code",
      "execution_count": null,
      "id": "f7186d21",
      "metadata": {
        "id": "f7186d21",
        "outputId": "835e58fd-b3c4-4fa8-e335-38cb7dadde81"
      },
      "outputs": [
        {
          "data": {
            "text/plain": [
              "(1788, 2)"
            ]
          },
          "execution_count": 36,
          "metadata": {},
          "output_type": "execute_result"
        }
      ],
      "source": [
        "X.shape"
      ]
    },
    {
      "cell_type": "code",
      "execution_count": null,
      "id": "4571b305",
      "metadata": {
        "id": "4571b305",
        "outputId": "a5506f37-a23f-4f96-96b0-b3d6777b29ea"
      },
      "outputs": [
        {
          "data": {
            "text/plain": [
              "(1788,)"
            ]
          },
          "execution_count": 37,
          "metadata": {},
          "output_type": "execute_result"
        }
      ],
      "source": [
        "y.shape"
      ]
    },
    {
      "cell_type": "code",
      "execution_count": null,
      "id": "be572b56",
      "metadata": {
        "id": "be572b56",
        "outputId": "d7c39d71-c8a1-4268-fd0c-72e4edcee474"
      },
      "outputs": [
        {
          "data": {
            "text/plain": [
              "894"
            ]
          },
          "execution_count": 38,
          "metadata": {},
          "output_type": "execute_result"
        }
      ],
      "source": [
        "len(y[y==0])"
      ]
    },
    {
      "cell_type": "code",
      "execution_count": null,
      "id": "b63c47c5",
      "metadata": {
        "id": "b63c47c5",
        "outputId": "5886f6ae-2f5e-48cb-e2f3-56c8d03fae45"
      },
      "outputs": [
        {
          "data": {
            "text/plain": [
              "894"
            ]
          },
          "execution_count": 39,
          "metadata": {},
          "output_type": "execute_result"
        }
      ],
      "source": [
        "len(y[y==1])"
      ]
    },
    {
      "cell_type": "code",
      "execution_count": null,
      "id": "7f30e5fa",
      "metadata": {
        "id": "7f30e5fa",
        "outputId": "bd7f9139-a233-47e9-8ae5-cc24c0392521"
      },
      "outputs": [
        {
          "data": {
            "text/html": [
              "<div>\n",
              "<style scoped>\n",
              "    .dataframe tbody tr th:only-of-type {\n",
              "        vertical-align: middle;\n",
              "    }\n",
              "\n",
              "    .dataframe tbody tr th {\n",
              "        vertical-align: top;\n",
              "    }\n",
              "\n",
              "    .dataframe thead th {\n",
              "        text-align: right;\n",
              "    }\n",
              "</style>\n",
              "<table border=\"1\" class=\"dataframe\">\n",
              "  <thead>\n",
              "    <tr style=\"text-align: right;\">\n",
              "      <th></th>\n",
              "      <th>f1</th>\n",
              "      <th>f2</th>\n",
              "      <th>target</th>\n",
              "    </tr>\n",
              "  </thead>\n",
              "  <tbody>\n",
              "    <tr>\n",
              "      <th>0</th>\n",
              "      <td>1.536830</td>\n",
              "      <td>-1.398694</td>\n",
              "      <td>1</td>\n",
              "    </tr>\n",
              "    <tr>\n",
              "      <th>1</th>\n",
              "      <td>1.551108</td>\n",
              "      <td>1.810329</td>\n",
              "      <td>0</td>\n",
              "    </tr>\n",
              "    <tr>\n",
              "      <th>2</th>\n",
              "      <td>1.293619</td>\n",
              "      <td>1.010946</td>\n",
              "      <td>0</td>\n",
              "    </tr>\n",
              "    <tr>\n",
              "      <th>3</th>\n",
              "      <td>1.119889</td>\n",
              "      <td>1.632518</td>\n",
              "      <td>0</td>\n",
              "    </tr>\n",
              "    <tr>\n",
              "      <th>4</th>\n",
              "      <td>1.042356</td>\n",
              "      <td>1.121529</td>\n",
              "      <td>0</td>\n",
              "    </tr>\n",
              "    <tr>\n",
              "      <th>...</th>\n",
              "      <td>...</td>\n",
              "      <td>...</td>\n",
              "      <td>...</td>\n",
              "    </tr>\n",
              "    <tr>\n",
              "      <th>1783</th>\n",
              "      <td>0.379066</td>\n",
              "      <td>0.905933</td>\n",
              "      <td>1</td>\n",
              "    </tr>\n",
              "    <tr>\n",
              "      <th>1784</th>\n",
              "      <td>1.756310</td>\n",
              "      <td>-2.345462</td>\n",
              "      <td>1</td>\n",
              "    </tr>\n",
              "    <tr>\n",
              "      <th>1785</th>\n",
              "      <td>2.334889</td>\n",
              "      <td>-2.820627</td>\n",
              "      <td>1</td>\n",
              "    </tr>\n",
              "    <tr>\n",
              "      <th>1786</th>\n",
              "      <td>1.104103</td>\n",
              "      <td>-0.147551</td>\n",
              "      <td>1</td>\n",
              "    </tr>\n",
              "    <tr>\n",
              "      <th>1787</th>\n",
              "      <td>1.028514</td>\n",
              "      <td>-1.372499</td>\n",
              "      <td>1</td>\n",
              "    </tr>\n",
              "  </tbody>\n",
              "</table>\n",
              "<p>1788 rows × 3 columns</p>\n",
              "</div>"
            ],
            "text/plain": [
              "            f1        f2  target\n",
              "0     1.536830 -1.398694       1\n",
              "1     1.551108  1.810329       0\n",
              "2     1.293619  1.010946       0\n",
              "3     1.119889  1.632518       0\n",
              "4     1.042356  1.121529       0\n",
              "...        ...       ...     ...\n",
              "1783  0.379066  0.905933       1\n",
              "1784  1.756310 -2.345462       1\n",
              "1785  2.334889 -2.820627       1\n",
              "1786  1.104103 -0.147551       1\n",
              "1787  1.028514 -1.372499       1\n",
              "\n",
              "[1788 rows x 3 columns]"
            ]
          },
          "execution_count": 40,
          "metadata": {},
          "output_type": "execute_result"
        }
      ],
      "source": [
        "df1 = pd.DataFrame(X, columns = ['f1', 'f2'])\n",
        "df2 = pd.DataFrame(y, columns = ['target'])\n",
        "oversample_df = pd.concat([df1, df2], axis=1)\n",
        "oversample_df"
      ]
    },
    {
      "cell_type": "code",
      "execution_count": null,
      "id": "91e3ec21",
      "metadata": {
        "id": "91e3ec21",
        "outputId": "7e8e2b62-301b-43b3-fb33-2f1c14f0c6bf"
      },
      "outputs": [
        {
          "data": {
            "text/plain": [
              "<matplotlib.collections.PathCollection at 0x18b29605910>"
            ]
          },
          "execution_count": 41,
          "metadata": {},
          "output_type": "execute_result"
        },
        {
          "data": {
            "image/png": "[encoded data removed]",
            "text/plain": [
              "<Figure size 640x480 with 1 Axes>"
            ]
          },
          "metadata": {},
          "output_type": "display_data"
        }
      ],
      "source": [
        "plt.scatter(oversample_df['f1'], oversample_df['f2'], c = oversample_df['target'])"
      ]
    },
    {
      "cell_type": "code",
      "execution_count": null,
      "id": "ab240392",
      "metadata": {
        "id": "ab240392",
        "outputId": "efc5819b-e498-4c42-d82a-e663fc980f66"
      },
      "outputs": [
        {
          "data": {
            "text/html": [
              "<div>\n",
              "<style scoped>\n",
              "    .dataframe tbody tr th:only-of-type {\n",
              "        vertical-align: middle;\n",
              "    }\n",
              "\n",
              "    .dataframe tbody tr th {\n",
              "        vertical-align: top;\n",
              "    }\n",
              "\n",
              "    .dataframe thead th {\n",
              "        text-align: right;\n",
              "    }\n",
              "</style>\n",
              "<table border=\"1\" class=\"dataframe\">\n",
              "  <thead>\n",
              "    <tr style=\"text-align: right;\">\n",
              "      <th></th>\n",
              "      <th>f1</th>\n",
              "      <th>f2</th>\n",
              "      <th>target</th>\n",
              "    </tr>\n",
              "  </thead>\n",
              "  <tbody>\n",
              "    <tr>\n",
              "      <th>0</th>\n",
              "      <td>1.536830</td>\n",
              "      <td>-1.398694</td>\n",
              "      <td>1</td>\n",
              "    </tr>\n",
              "    <tr>\n",
              "      <th>8</th>\n",
              "      <td>2.552644</td>\n",
              "      <td>-2.588927</td>\n",
              "      <td>1</td>\n",
              "    </tr>\n",
              "    <tr>\n",
              "      <th>14</th>\n",
              "      <td>1.115618</td>\n",
              "      <td>-0.929017</td>\n",
              "      <td>1</td>\n",
              "    </tr>\n",
              "    <tr>\n",
              "      <th>17</th>\n",
              "      <td>1.558391</td>\n",
              "      <td>-2.098504</td>\n",
              "      <td>1</td>\n",
              "    </tr>\n",
              "    <tr>\n",
              "      <th>20</th>\n",
              "      <td>-0.672512</td>\n",
              "      <td>-0.198716</td>\n",
              "      <td>1</td>\n",
              "    </tr>\n",
              "    <tr>\n",
              "      <th>...</th>\n",
              "      <td>...</td>\n",
              "      <td>...</td>\n",
              "      <td>...</td>\n",
              "    </tr>\n",
              "    <tr>\n",
              "      <th>1783</th>\n",
              "      <td>0.412443</td>\n",
              "      <td>-0.461477</td>\n",
              "      <td>1</td>\n",
              "    </tr>\n",
              "    <tr>\n",
              "      <th>1784</th>\n",
              "      <td>1.480492</td>\n",
              "      <td>-0.682876</td>\n",
              "      <td>1</td>\n",
              "    </tr>\n",
              "    <tr>\n",
              "      <th>1785</th>\n",
              "      <td>1.101318</td>\n",
              "      <td>-0.587191</td>\n",
              "      <td>1</td>\n",
              "    </tr>\n",
              "    <tr>\n",
              "      <th>1786</th>\n",
              "      <td>1.202037</td>\n",
              "      <td>-1.055703</td>\n",
              "      <td>1</td>\n",
              "    </tr>\n",
              "    <tr>\n",
              "      <th>1787</th>\n",
              "      <td>-0.603264</td>\n",
              "      <td>0.287864</td>\n",
              "      <td>1</td>\n",
              "    </tr>\n",
              "  </tbody>\n",
              "</table>\n",
              "<p>894 rows × 3 columns</p>\n",
              "</div>"
            ],
            "text/plain": [
              "            f1        f2  target\n",
              "0     1.536830 -1.398694       1\n",
              "8     2.552644 -2.588927       1\n",
              "14    1.115618 -0.929017       1\n",
              "17    1.558391 -2.098504       1\n",
              "20   -0.672512 -0.198716       1\n",
              "...        ...       ...     ...\n",
              "1783  0.412443 -0.461477       1\n",
              "1784  1.480492 -0.682876       1\n",
              "1785  1.101318 -0.587191       1\n",
              "1786  1.202037 -1.055703       1\n",
              "1787 -0.603264  0.287864       1\n",
              "\n",
              "[894 rows x 3 columns]"
            ]
          },
          "execution_count": 48,
          "metadata": {},
          "output_type": "execute_result"
        }
      ],
      "source": [
        "oversample_df[oversample_df.target == 1]"
      ]
    },
    {
      "cell_type": "code",
      "execution_count": null,
      "id": "39c5a352",
      "metadata": {
        "id": "39c5a352",
        "outputId": "e076f6cb-61f0-4c74-c2ad-d1bf31dcf288"
      },
      "outputs": [
        {
          "data": {
            "text/html": [
              "<div>\n",
              "<style scoped>\n",
              "    .dataframe tbody tr th:only-of-type {\n",
              "        vertical-align: middle;\n",
              "    }\n",
              "\n",
              "    .dataframe tbody tr th {\n",
              "        vertical-align: top;\n",
              "    }\n",
              "\n",
              "    .dataframe thead th {\n",
              "        text-align: right;\n",
              "    }\n",
              "</style>\n",
              "<table border=\"1\" class=\"dataframe\">\n",
              "  <thead>\n",
              "    <tr style=\"text-align: right;\">\n",
              "      <th></th>\n",
              "      <th>feature1</th>\n",
              "      <th>feature2</th>\n",
              "      <th>target</th>\n",
              "    </tr>\n",
              "  </thead>\n",
              "  <tbody>\n",
              "    <tr>\n",
              "      <th>900</th>\n",
              "      <td>2.546497</td>\n",
              "      <td>2.965789</td>\n",
              "      <td>1</td>\n",
              "    </tr>\n",
              "    <tr>\n",
              "      <th>901</th>\n",
              "      <td>2.179095</td>\n",
              "      <td>2.718501</td>\n",
              "      <td>1</td>\n",
              "    </tr>\n",
              "    <tr>\n",
              "      <th>902</th>\n",
              "      <td>3.940219</td>\n",
              "      <td>3.580178</td>\n",
              "      <td>1</td>\n",
              "    </tr>\n",
              "    <tr>\n",
              "      <th>903</th>\n",
              "      <td>1.588707</td>\n",
              "      <td>2.136473</td>\n",
              "      <td>1</td>\n",
              "    </tr>\n",
              "    <tr>\n",
              "      <th>904</th>\n",
              "      <td>3.884148</td>\n",
              "      <td>3.326813</td>\n",
              "      <td>1</td>\n",
              "    </tr>\n",
              "    <tr>\n",
              "      <th>...</th>\n",
              "      <td>...</td>\n",
              "      <td>...</td>\n",
              "      <td>...</td>\n",
              "    </tr>\n",
              "    <tr>\n",
              "      <th>995</th>\n",
              "      <td>1.402786</td>\n",
              "      <td>2.274796</td>\n",
              "      <td>1</td>\n",
              "    </tr>\n",
              "    <tr>\n",
              "      <th>996</th>\n",
              "      <td>3.461016</td>\n",
              "      <td>2.861925</td>\n",
              "      <td>1</td>\n",
              "    </tr>\n",
              "    <tr>\n",
              "      <th>997</th>\n",
              "      <td>4.316506</td>\n",
              "      <td>3.250043</td>\n",
              "      <td>1</td>\n",
              "    </tr>\n",
              "    <tr>\n",
              "      <th>998</th>\n",
              "      <td>3.296370</td>\n",
              "      <td>3.353116</td>\n",
              "      <td>1</td>\n",
              "    </tr>\n",
              "    <tr>\n",
              "      <th>999</th>\n",
              "      <td>3.000008</td>\n",
              "      <td>2.499023</td>\n",
              "      <td>1</td>\n",
              "    </tr>\n",
              "  </tbody>\n",
              "</table>\n",
              "<p>100 rows × 3 columns</p>\n",
              "</div>"
            ],
            "text/plain": [
              "     feature1  feature2  target\n",
              "900  2.546497  2.965789       1\n",
              "901  2.179095  2.718501       1\n",
              "902  3.940219  3.580178       1\n",
              "903  1.588707  2.136473       1\n",
              "904  3.884148  3.326813       1\n",
              "..        ...       ...     ...\n",
              "995  1.402786  2.274796       1\n",
              "996  3.461016  2.861925       1\n",
              "997  4.316506  3.250043       1\n",
              "998  3.296370  3.353116       1\n",
              "999  3.000008  2.499023       1\n",
              "\n",
              "[100 rows x 3 columns]"
            ]
          },
          "execution_count": 49,
          "metadata": {},
          "output_type": "execute_result"
        }
      ],
      "source": [
        "df_minority"
      ]
    },
    {
      "cell_type": "code",
      "execution_count": null,
      "id": "ea5f98ce",
      "metadata": {
        "id": "ea5f98ce"
      },
      "outputs": [],
      "source": []
    }
  ],
  "metadata": {
    "kernelspec": {
      "display_name": "Python 3 (ipykernel)",
      "language": "python",
      "name": "python3"
    },
    "language_info": {
      "codemirror_mode": {
        "name": "ipython",
        "version": 3
      },
      "file_extension": ".py",
      "mimetype": "text/x-python",
      "name": "python",
      "nbconvert_exporter": "python",
      "pygments_lexer": "ipython3",
      "version": "3.11.4"
    },
    "colab": {
      "provenance": [],
      "include_colab_link": true
    }
  },
  "nbformat": 4,
  "nbformat_minor": 5
}